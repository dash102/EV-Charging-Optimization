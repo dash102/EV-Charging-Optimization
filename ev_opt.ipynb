{
 "cells": [
  {
   "cell_type": "code",
   "execution_count": 41,
   "metadata": {},
   "outputs": [],
   "source": [
    "using Gurobi\n",
    "using CSV\n",
    "using DataFrames\n",
    "using JuMP"
   ]
  },
  {
   "cell_type": "code",
   "execution_count": 42,
   "metadata": {},
   "outputs": [
    {
     "data": {
      "text/html": [
       "<table class=\"data-frame\"><thead><tr><th></th><th>station_1</th><th>station_2</th><th>station_3</th></tr></thead><tbody><tr><th>1</th><td>2</td><td>missing</td><td>missing</td></tr><tr><th>2</th><td>2</td><td>3</td><td>missing</td></tr><tr><th>3</th><td>2</td><td>missing</td><td>missing</td></tr><tr><th>4</th><td>8</td><td>missing</td><td>missing</td></tr><tr><th>5</th><td>2</td><td>3</td><td>missing</td></tr><tr><th>6</th><td>2</td><td>5</td><td>missing</td></tr><tr><th>7</th><td>2</td><td>missing</td><td>missing</td></tr><tr><th>8</th><td>2</td><td>11</td><td>missing</td></tr><tr><th>9</th><td>2</td><td>5</td><td>missing</td></tr><tr><th>10</th><td>2</td><td>11</td><td>missing</td></tr><tr><th>11</th><td>2</td><td>11</td><td>missing</td></tr><tr><th>12</th><td>2</td><td>11</td><td>15</td></tr><tr><th>13</th><td>2</td><td>5</td><td>missing</td></tr><tr><th>14</th><td>2</td><td>missing</td><td>missing</td></tr><tr><th>15</th><td>2</td><td>3</td><td>missing</td></tr><tr><th>16</th><td>2</td><td>missing</td><td>missing</td></tr><tr><th>17</th><td>2</td><td>3</td><td>missing</td></tr><tr><th>18</th><td>2</td><td>5</td><td>missing</td></tr><tr><th>19</th><td>11</td><td>missing</td><td>missing</td></tr><tr><th>20</th><td>2</td><td>5</td><td>missing</td></tr><tr><th>21</th><td>11</td><td>missing</td><td>missing</td></tr><tr><th>22</th><td>11</td><td>missing</td><td>missing</td></tr><tr><th>23</th><td>11</td><td>15</td><td>missing</td></tr><tr><th>24</th><td>2</td><td>5</td><td>missing</td></tr><tr><th>25</th><td>3</td><td>missing</td><td>missing</td></tr><tr><th>26</th><td>3</td><td>missing</td><td>missing</td></tr><tr><th>27</th><td>5</td><td>missing</td><td>missing</td></tr><tr><th>28</th><td>11</td><td>missing</td><td>missing</td></tr><tr><th>29</th><td>5</td><td>missing</td><td>missing</td></tr><tr><th>30</th><td>11</td><td>missing</td><td>missing</td></tr><tr><th>&vellip;</th><td>&vellip;</td><td>&vellip;</td><td>&vellip;</td></tr></tbody></table>"
      ],
      "text/plain": [
       "114×3 DataFrames.DataFrame\n",
       "│ Row │ station_1 │ station_2 │ station_3 │\n",
       "├─────┼───────────┼───────────┼───────────┤\n",
       "│ 1   │ 2         │ \u001b[90mmissing\u001b[39m   │ \u001b[90mmissing\u001b[39m   │\n",
       "│ 2   │ 2         │ 3         │ \u001b[90mmissing\u001b[39m   │\n",
       "│ 3   │ 2         │ \u001b[90mmissing\u001b[39m   │ \u001b[90mmissing\u001b[39m   │\n",
       "│ 4   │ 8         │ \u001b[90mmissing\u001b[39m   │ \u001b[90mmissing\u001b[39m   │\n",
       "│ 5   │ 2         │ 3         │ \u001b[90mmissing\u001b[39m   │\n",
       "│ 6   │ 2         │ 5         │ \u001b[90mmissing\u001b[39m   │\n",
       "│ 7   │ 2         │ \u001b[90mmissing\u001b[39m   │ \u001b[90mmissing\u001b[39m   │\n",
       "│ 8   │ 2         │ 11        │ \u001b[90mmissing\u001b[39m   │\n",
       "│ 9   │ 2         │ 5         │ \u001b[90mmissing\u001b[39m   │\n",
       "│ 10  │ 2         │ 11        │ \u001b[90mmissing\u001b[39m   │\n",
       "│ 11  │ 2         │ 11        │ \u001b[90mmissing\u001b[39m   │\n",
       "⋮\n",
       "│ 103 │ 17        │ \u001b[90mmissing\u001b[39m   │ \u001b[90mmissing\u001b[39m   │\n",
       "│ 104 │ 11        │ \u001b[90mmissing\u001b[39m   │ \u001b[90mmissing\u001b[39m   │\n",
       "│ 105 │ 3         │ 9         │ \u001b[90mmissing\u001b[39m   │\n",
       "│ 106 │ 3         │ 9         │ \u001b[90mmissing\u001b[39m   │\n",
       "│ 107 │ 3         │ 9         │ 15        │\n",
       "│ 108 │ 3         │ 2         │ \u001b[90mmissing\u001b[39m   │\n",
       "│ 109 │ 9         │ \u001b[90mmissing\u001b[39m   │ \u001b[90mmissing\u001b[39m   │\n",
       "│ 110 │ 11        │ \u001b[90mmissing\u001b[39m   │ \u001b[90mmissing\u001b[39m   │\n",
       "│ 111 │ 11        │ \u001b[90mmissing\u001b[39m   │ \u001b[90mmissing\u001b[39m   │\n",
       "│ 112 │ 12        │ \u001b[90mmissing\u001b[39m   │ \u001b[90mmissing\u001b[39m   │\n",
       "│ 113 │ 14        │ 11        │ \u001b[90mmissing\u001b[39m   │\n",
       "│ 114 │ 3         │ 2         │ \u001b[90mmissing\u001b[39m   │"
      ]
     },
     "execution_count": 42,
     "metadata": {},
     "output_type": "execute_result"
    }
   ],
   "source": [
    "df = CSV.read(\"ev_constraints.csv\", header = true, missingstring=\"\\N\")"
   ]
  },
  {
   "cell_type": "code",
   "execution_count": 69,
   "metadata": {},
   "outputs": [
    {
     "data": {
      "text/latex": [
       "$$ x_{1} + x_{2} + x_{3} + x_{4} + x_{5} + x_{6} + x_{7} + x_{8} + x_{9} + x_{10} + x_{11} + x_{12} + x_{13} + x_{14} + x_{15} + x_{16} + x_{17} + x_{18} $$"
      ],
      "text/plain": [
       "x[1] + x[2] + x[3] + x[4] + x[5] + x[6] + x[7] + x[8] + x[9] + x[10] + x[11] + x[12] + x[13] + x[14] + x[15] + x[16] + x[17] + x[18]"
      ]
     },
     "execution_count": 69,
     "metadata": {},
     "output_type": "execute_result"
    }
   ],
   "source": [
    "num_nodes = 18\n",
    "\n",
    "m = Model(solver=GurobiSolver(OutputFlag=0))\n",
    "\n",
    "@variable(m, x[1:num_nodes],Bin)\n",
    "\n",
    "for row in eachrow(df)\n",
    "    v = vec(convert(Array, row)) # no transpose necessary\n",
    "    @constraint(m, sum(x[i] for i in v if !ismissing(i)) >= 1)\n",
    "end\n",
    "\n",
    "@objective(m, Min, sum(x[i] for i in 1:num_nodes))\n"
   ]
  },
  {
   "cell_type": "code",
   "execution_count": 71,
   "metadata": {},
   "outputs": [
    {
     "name": "stdout",
     "output_type": "stream",
     "text": [
      "Academic license - for non-commercial use only\n"
     ]
    },
    {
     "data": {
      "text/plain": [
       ":Optimal"
      ]
     },
     "execution_count": 71,
     "metadata": {},
     "output_type": "execute_result"
    }
   ],
   "source": [
    "status = solve(m)"
   ]
  },
  {
   "cell_type": "code",
   "execution_count": 72,
   "metadata": {},
   "outputs": [
    {
     "data": {
      "text/plain": [
       "18-element Array{Float64,1}:\n",
       " 0.0\n",
       " 1.0\n",
       " 1.0\n",
       " 0.0\n",
       " 1.0\n",
       " 0.0\n",
       " 0.0\n",
       " 1.0\n",
       " 1.0\n",
       " 1.0\n",
       " 1.0\n",
       " 1.0\n",
       " 0.0\n",
       " 1.0\n",
       " 1.0\n",
       " 0.0\n",
       " 1.0\n",
       " 0.0"
      ]
     },
     "execution_count": 72,
     "metadata": {},
     "output_type": "execute_result"
    }
   ],
   "source": [
    "getvalue(x)"
   ]
  },
  {
   "cell_type": "code",
   "execution_count": 47,
   "metadata": {},
   "outputs": [
    {
     "data": {
      "text/html": [
       "<table class=\"data-frame\"><thead><tr><th></th><th>station_1</th><th>station_2</th><th>station_3</th></tr></thead><tbody><tr><th>1</th><td>2</td><td>missing</td><td>missing</td></tr></tbody></table>"
      ],
      "text/plain": [
       "1×3 DataFrames.DataFrame\n",
       "│ Row │ station_1 │ station_2 │ station_3 │\n",
       "├─────┼───────────┼───────────┼───────────┤\n",
       "│ 1   │ 2         │ \u001b[90mmissing\u001b[39m   │ \u001b[90mmissing\u001b[39m   │"
      ]
     },
     "execution_count": 47,
     "metadata": {},
     "output_type": "execute_result"
    }
   ],
   "source": []
  },
  {
   "cell_type": "code",
   "execution_count": 64,
   "metadata": {},
   "outputs": [
    {
     "data": {
      "text/plain": [
       "false"
      ]
     },
     "execution_count": 64,
     "metadata": {},
     "output_type": "execute_result"
    }
   ],
   "source": [
    " ismissing(df[1,1])"
   ]
  },
  {
   "cell_type": "code",
   "execution_count": 68,
   "metadata": {},
   "outputs": [
    {
     "data": {
      "text/latex": [
       "$$ \\begin{alignat*}{1}\\min\\quad & 0\\\\\n",
       "\\text{Subject to} \\quad & x_{2} \\geq 1\\\\\n",
       " & x_{2} + x_{3} \\geq 1\\\\\n",
       " & x_{2} \\geq 1\\\\\n",
       " & x_{8} \\geq 1\\\\\n",
       " & x_{2} + x_{3} \\geq 1\\\\\n",
       " & x_{2} + x_{5} \\geq 1\\\\\n",
       " & x_{2} \\geq 1\\\\\n",
       " & x_{2} + x_{11} \\geq 1\\\\\n",
       " & x_{2} + x_{5} \\geq 1\\\\\n",
       " & x_{2} + x_{11} \\geq 1\\\\\n",
       " & x_{2} + x_{11} \\geq 1\\\\\n",
       " & x_{2} + x_{11} + x_{15} \\geq 1\\\\\n",
       " & x_{2} + x_{5} \\geq 1\\\\\n",
       " & x_{2} \\geq 1\\\\\n",
       " & x_{2} + x_{3} \\geq 1\\\\\n",
       " & x_{2} \\geq 1\\\\\n",
       " & x_{2} + x_{3} \\geq 1\\\\\n",
       " & x_{2} + x_{5} \\geq 1\\\\\n",
       " & x_{11} \\geq 1\\\\\n",
       " & x_{2} + x_{5} \\geq 1\\\\\n",
       " & x_{11} \\geq 1\\\\\n",
       " & x_{11} \\geq 1\\\\\n",
       " & x_{11} + x_{15} \\geq 1\\\\\n",
       " & x_{2} + x_{5} \\geq 1\\\\\n",
       " & x_{3} \\geq 1\\\\\n",
       " & x_{3} \\geq 1\\\\\n",
       " & x_{5} \\geq 1\\\\\n",
       " & x_{11} \\geq 1\\\\\n",
       " & x_{5} \\geq 1\\\\\n",
       " & x_{11} \\geq 1\\\\\n",
       " & x_{11} \\geq 1\\\\\n",
       " & x_{11} + x_{15} \\geq 1\\\\\n",
       " & x_{5} \\geq 1\\\\\n",
       " & x_{2} \\geq 1\\\\\n",
       " & x_{2} \\geq 1\\\\\n",
       " & x_{2} \\geq 1\\\\\n",
       " & x_{2} \\geq 1\\\\\n",
       " & x_{9} \\geq 1\\\\\n",
       " & x_{9} \\geq 1\\\\\n",
       " & x_{9} \\geq 1\\\\\n",
       " & x_{9} + x_{15} \\geq 1\\\\\n",
       " & x_{2} \\geq 1\\\\\n",
       " & x_{3} + x_{2} \\geq 1\\\\\n",
       " & x_{3} + x_{2} \\geq 1\\\\\n",
       " & x_{3} + x_{2} \\geq 1\\\\\n",
       " & x_{3} \\geq 1\\\\\n",
       " & x_{3} + x_{2} \\geq 1\\\\\n",
       " & x_{3} + x_{9} \\geq 1\\\\\n",
       " & x_{3} + x_{9} \\geq 1\\\\\n",
       " & x_{3} + x_{9} \\geq 1\\\\\n",
       " & x_{3} + x_{9} + x_{15} \\geq 1\\\\\n",
       " & x_{10} \\geq 1\\\\\n",
       " & x_{3} + x_{2} \\geq 1\\\\\n",
       " & x_{2} \\geq 1\\\\\n",
       " & x_{2} \\geq 1\\\\\n",
       " & x_{2} \\geq 1\\\\\n",
       " & x_{2} \\geq 1\\\\\n",
       " & x_{9} \\geq 1\\\\\n",
       " & x_{9} \\geq 1\\\\\n",
       " & x_{9} \\geq 1\\\\\n",
       " & x_{9} + x_{15} \\geq 1\\\\\n",
       " & x_{2} \\geq 1\\\\\n",
       " & x_{2} + x_{3} \\geq 1\\\\\n",
       " & x_{2} + x_{5} \\geq 1\\\\\n",
       " & x_{2} \\geq 1\\\\\n",
       " & x_{2} + x_{11} \\geq 1\\\\\n",
       " & x_{2} + x_{5} \\geq 1\\\\\n",
       " & x_{2} + x_{11} \\geq 1\\\\\n",
       " & x_{2} + x_{11} \\geq 1\\\\\n",
       " & x_{2} + x_{11} + x_{15} \\geq 1\\\\\n",
       " & x_{2} + x_{5} \\geq 1\\\\\n",
       " & x_{8} + x_{11} + x_{12} \\geq 1\\\\\n",
       " & x_{2} + x_{5} \\geq 1\\\\\n",
       " & x_{8} \\geq 1\\\\\n",
       " & x_{8} + x_{11} \\geq 1\\\\\n",
       " & x_{2} + x_{5} \\geq 1\\\\\n",
       " & x_{8} + x_{11} \\geq 1\\\\\n",
       " & x_{8} + x_{11} \\geq 1\\\\\n",
       " & x_{8} + x_{11} + x_{15} \\geq 1\\\\\n",
       " & x_{2} + x_{5} \\geq 1\\\\\n",
       " & x_{11} + x_{12} \\geq 1\\\\\n",
       " & x_{2} + x_{5} \\geq 1\\\\\n",
       " & x_{11} \\geq 1\\\\\n",
       " & x_{2} + x_{5} \\geq 1\\\\\n",
       " & x_{11} \\geq 1\\\\\n",
       " & x_{11} \\geq 1\\\\\n",
       " & x_{11} + x_{15} \\geq 1\\\\\n",
       " & x_{2} + x_{5} \\geq 1\\\\\n",
       " & x_{17} \\geq 1\\\\\n",
       " & x_{14} \\geq 1\\\\\n",
       " & x_{17} \\geq 1\\\\\n",
       " & x_{15} \\geq 1\\\\\n",
       " & x_{3} + x_{2} \\geq 1\\\\\n",
       " & x_{3} + x_{2} \\geq 1\\\\\n",
       " & x_{3} + x_{9} \\geq 1\\\\\n",
       " & x_{3} + x_{9} \\geq 1\\\\\n",
       " & x_{3} + x_{9} \\geq 1\\\\\n",
       " & x_{3} + x_{9} + x_{15} \\geq 1\\\\\n",
       " & x_{3} + x_{2} \\geq 1\\\\\n",
       " & x_{2} + x_{5} \\geq 1\\\\\n",
       " & x_{15} \\geq 1\\\\\n",
       " & x_{12} \\geq 1\\\\\n",
       " & x_{17} \\geq 1\\\\\n",
       " & x_{11} \\geq 1\\\\\n",
       " & x_{3} + x_{9} \\geq 1\\\\\n",
       " & x_{3} + x_{9} \\geq 1\\\\\n",
       " & x_{3} + x_{9} + x_{15} \\geq 1\\\\\n",
       " & x_{3} + x_{2} \\geq 1\\\\\n",
       " & x_{9} \\geq 1\\\\\n",
       " & x_{11} \\geq 1\\\\\n",
       " & x_{11} \\geq 1\\\\\n",
       " & x_{12} \\geq 1\\\\\n",
       " & x_{14} + x_{11} \\geq 1\\\\\n",
       " & x_{3} + x_{2} \\geq 1\\\\\n",
       " & x_{i} \\in \\{0,1\\} \\quad\\forall i \\in \\{1,2,\\dots,17,18\\}\\\\\n",
       "\\end{alignat*}\n",
       " $$"
      ],
      "text/plain": [
       "Feasibility problem with:\n",
       " * 114 linear constraints\n",
       " * 18 variables: 18 binary\n",
       "Solver is Gurobi"
      ]
     },
     "execution_count": 68,
     "metadata": {},
     "output_type": "execute_result"
    }
   ],
   "source": [
    "m"
   ]
  },
  {
   "cell_type": "code",
   "execution_count": null,
   "metadata": {},
   "outputs": [],
   "source": []
  }
 ],
 "metadata": {
  "kernelspec": {
   "display_name": "Julia 0.6.4",
   "language": "julia",
   "name": "julia-0.6"
  },
  "language_info": {
   "file_extension": ".jl",
   "mimetype": "application/julia",
   "name": "julia",
   "version": "0.6.4"
  }
 },
 "nbformat": 4,
 "nbformat_minor": 2
}
