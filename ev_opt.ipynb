{
 "cells": [
  {
   "cell_type": "code",
   "execution_count": 15,
   "metadata": {},
   "outputs": [],
   "source": [
    "using Gurobi\n",
    "using CSV\n",
    "using DataFrames\n",
    "using JuMP"
   ]
  },
  {
   "cell_type": "code",
   "execution_count": 16,
   "metadata": {},
   "outputs": [],
   "source": [
    "# import Pkg\n",
    "# Pkg.activate(@__DIR__)\n",
    "# Pkg.instantiate()"
   ]
  },
  {
   "cell_type": "code",
   "execution_count": 17,
   "metadata": {},
   "outputs": [
    {
     "data": {
      "text/html": [
       "<table class=\"data-frame\"><thead><tr><th></th><th>station_1</th><th>station_2</th><th>station_3</th><th>station_4</th><th>station_5</th><th>station_6</th><th>station_7</th><th>station_8</th><th>station_9</th></tr></thead><tbody><tr><th>1</th><td>16</td><td>18</td><td>26</td><td>31</td><td>43</td><td>40</td><td>39</td><td>34</td><td>35</td></tr><tr><th>2</th><td>16</td><td>18</td><td>26</td><td>31</td><td>43</td><td>40</td><td>39</td><td>34</td><td>35</td></tr><tr><th>3</th><td>2</td><td>6</td><td>missing</td><td>missing</td><td>missing</td><td>missing</td><td>missing</td><td>missing</td><td>missing</td></tr><tr><th>4</th><td>6</td><td>missing</td><td>missing</td><td>missing</td><td>missing</td><td>missing</td><td>missing</td><td>missing</td><td>missing</td></tr><tr><th>5</th><td>3</td><td>4</td><td>5</td><td>19</td><td>missing</td><td>missing</td><td>missing</td><td>missing</td><td>missing</td></tr><tr><th>6</th><td>4</td><td>5</td><td>19</td><td>missing</td><td>missing</td><td>missing</td><td>missing</td><td>missing</td><td>missing</td></tr><tr><th>7</th><td>5</td><td>19</td><td>missing</td><td>missing</td><td>missing</td><td>missing</td><td>missing</td><td>missing</td><td>missing</td></tr><tr><th>8</th><td>3</td><td>4</td><td>5</td><td>19</td><td>missing</td><td>missing</td><td>missing</td><td>missing</td><td>missing</td></tr><tr><th>9</th><td>4</td><td>5</td><td>19</td><td>missing</td><td>missing</td><td>missing</td><td>missing</td><td>missing</td><td>missing</td></tr><tr><th>10</th><td>3</td><td>4</td><td>5</td><td>16</td><td>missing</td><td>missing</td><td>missing</td><td>missing</td><td>missing</td></tr><tr><th>11</th><td>3</td><td>4</td><td>5</td><td>16</td><td>missing</td><td>missing</td><td>missing</td><td>missing</td><td>missing</td></tr><tr><th>12</th><td>3</td><td>4</td><td>5</td><td>missing</td><td>missing</td><td>missing</td><td>missing</td><td>missing</td><td>missing</td></tr><tr><th>13</th><td>3</td><td>4</td><td>5</td><td>19</td><td>missing</td><td>missing</td><td>missing</td><td>missing</td><td>missing</td></tr><tr><th>14</th><td>3</td><td>4</td><td>5</td><td>19</td><td>missing</td><td>missing</td><td>missing</td><td>missing</td><td>missing</td></tr><tr><th>15</th><td>3</td><td>11</td><td>12</td><td>13</td><td>14</td><td>missing</td><td>missing</td><td>missing</td><td>missing</td></tr><tr><th>16</th><td>3</td><td>11</td><td>12</td><td>13</td><td>14</td><td>missing</td><td>missing</td><td>missing</td><td>missing</td></tr><tr><th>17</th><td>3</td><td>11</td><td>12</td><td>13</td><td>14</td><td>missing</td><td>missing</td><td>missing</td><td>missing</td></tr><tr><th>18</th><td>11</td><td>12</td><td>13</td><td>14</td><td>22</td><td>23</td><td>missing</td><td>missing</td><td>missing</td></tr><tr><th>19</th><td>3</td><td>4</td><td>5</td><td>16</td><td>17</td><td>missing</td><td>missing</td><td>missing</td><td>missing</td></tr><tr><th>20</th><td>3</td><td>4</td><td>5</td><td>19</td><td>missing</td><td>missing</td><td>missing</td><td>missing</td><td>missing</td></tr><tr><th>21</th><td>4</td><td>5</td><td>19</td><td>20</td><td>missing</td><td>missing</td><td>missing</td><td>missing</td><td>missing</td></tr><tr><th>22</th><td>5</td><td>19</td><td>20</td><td>missing</td><td>missing</td><td>missing</td><td>missing</td><td>missing</td><td>missing</td></tr><tr><th>23</th><td>3</td><td>11</td><td>12</td><td>13</td><td>14</td><td>missing</td><td>missing</td><td>missing</td><td>missing</td></tr><tr><th>24</th><td>11</td><td>12</td><td>13</td><td>14</td><td>22</td><td>missing</td><td>missing</td><td>missing</td><td>missing</td></tr><tr><th>25</th><td>12</td><td>13</td><td>14</td><td>22</td><td>missing</td><td>missing</td><td>missing</td><td>missing</td><td>missing</td></tr><tr><th>26</th><td>3</td><td>11</td><td>12</td><td>13</td><td>14</td><td>missing</td><td>missing</td><td>missing</td><td>missing</td></tr><tr><th>27</th><td>11</td><td>12</td><td>13</td><td>14</td><td>22</td><td>23</td><td>missing</td><td>missing</td><td>missing</td></tr><tr><th>28</th><td>3</td><td>11</td><td>12</td><td>13</td><td>14</td><td>missing</td><td>missing</td><td>missing</td><td>missing</td></tr><tr><th>29</th><td>11</td><td>12</td><td>13</td><td>14</td><td>22</td><td>23</td><td>missing</td><td>missing</td><td>missing</td></tr><tr><th>30</th><td>12</td><td>13</td><td>14</td><td>22</td><td>23</td><td>missing</td><td>missing</td><td>missing</td><td>missing</td></tr><tr><th>&vellip;</th><td>&vellip;</td><td>&vellip;</td><td>&vellip;</td><td>&vellip;</td><td>&vellip;</td><td>&vellip;</td><td>&vellip;</td><td>&vellip;</td><td>&vellip;</td></tr></tbody></table>"
      ],
      "text/plain": [
       "3236×9 DataFrames.DataFrame. Omitted printing of 3 columns\n",
       "│ Row  │ station_1 │ station_2 │ station_3 │ station_4 │ station_5 │ station_6 │\n",
       "├──────┼───────────┼───────────┼───────────┼───────────┼───────────┼───────────┤\n",
       "│ 1    │ 16        │ 18        │ 26        │ 31        │ 43        │ 40        │\n",
       "│ 2    │ 16        │ 18        │ 26        │ 31        │ 43        │ 40        │\n",
       "│ 3    │ 2         │ 6         │ \u001b[90mmissing\u001b[39m   │ \u001b[90mmissing\u001b[39m   │ \u001b[90mmissing\u001b[39m   │ \u001b[90mmissing\u001b[39m   │\n",
       "│ 4    │ 6         │ \u001b[90mmissing\u001b[39m   │ \u001b[90mmissing\u001b[39m   │ \u001b[90mmissing\u001b[39m   │ \u001b[90mmissing\u001b[39m   │ \u001b[90mmissing\u001b[39m   │\n",
       "│ 5    │ 3         │ 4         │ 5         │ 19        │ \u001b[90mmissing\u001b[39m   │ \u001b[90mmissing\u001b[39m   │\n",
       "│ 6    │ 4         │ 5         │ 19        │ \u001b[90mmissing\u001b[39m   │ \u001b[90mmissing\u001b[39m   │ \u001b[90mmissing\u001b[39m   │\n",
       "│ 7    │ 5         │ 19        │ \u001b[90mmissing\u001b[39m   │ \u001b[90mmissing\u001b[39m   │ \u001b[90mmissing\u001b[39m   │ \u001b[90mmissing\u001b[39m   │\n",
       "│ 8    │ 3         │ 4         │ 5         │ 19        │ \u001b[90mmissing\u001b[39m   │ \u001b[90mmissing\u001b[39m   │\n",
       "│ 9    │ 4         │ 5         │ 19        │ \u001b[90mmissing\u001b[39m   │ \u001b[90mmissing\u001b[39m   │ \u001b[90mmissing\u001b[39m   │\n",
       "│ 10   │ 3         │ 4         │ 5         │ 16        │ \u001b[90mmissing\u001b[39m   │ \u001b[90mmissing\u001b[39m   │\n",
       "│ 11   │ 3         │ 4         │ 5         │ 16        │ \u001b[90mmissing\u001b[39m   │ \u001b[90mmissing\u001b[39m   │\n",
       "⋮\n",
       "│ 3225 │ 36        │ 35        │ 41        │ 42        │ \u001b[90mmissing\u001b[39m   │ \u001b[90mmissing\u001b[39m   │\n",
       "│ 3226 │ 35        │ 41        │ 42        │ \u001b[90mmissing\u001b[39m   │ \u001b[90mmissing\u001b[39m   │ \u001b[90mmissing\u001b[39m   │\n",
       "│ 3227 │ 36        │ 35        │ 34        │ 39        │ 45        │ \u001b[90mmissing\u001b[39m   │\n",
       "│ 3228 │ 36        │ 35        │ 34        │ 39        │ 45        │ 46        │\n",
       "│ 3229 │ 36        │ 35        │ 34        │ 39        │ 45        │ 46        │\n",
       "│ 3230 │ 35        │ 34        │ 39        │ 45        │ 46        │ 48        │\n",
       "│ 3231 │ 36        │ 35        │ 34        │ 39        │ 45        │ 46        │\n",
       "│ 3232 │ 41        │ 40        │ 43        │ 31        │ 45        │ 46        │\n",
       "│ 3233 │ 42        │ 43        │ 31        │ 45        │ \u001b[90mmissing\u001b[39m   │ \u001b[90mmissing\u001b[39m   │\n",
       "│ 3234 │ 42        │ 43        │ 31        │ 45        │ 46        │ \u001b[90mmissing\u001b[39m   │\n",
       "│ 3235 │ 42        │ 43        │ 31        │ 45        │ 46        │ \u001b[90mmissing\u001b[39m   │\n",
       "│ 3236 │ 42        │ 43        │ 31        │ 45        │ 46        │ \u001b[90mmissing\u001b[39m   │"
      ]
     },
     "execution_count": 17,
     "metadata": {},
     "output_type": "execute_result"
    }
   ],
   "source": [
    "df = CSV.read(\"ev_constraints.csv\", header = true, missingstring=\"\\n\")"
   ]
  },
  {
   "cell_type": "code",
   "execution_count": 18,
   "metadata": {},
   "outputs": [
    {
     "data": {
      "text/latex": [
       "$$ x_{1} + x_{2} + x_{3} + x_{4} + x_{5} + x_{6} + x_{7} + x_{8} + x_{9} + x_{10} + x_{11} + x_{12} + x_{13} + x_{14} + x_{15} + x_{16} + x_{17} + x_{18} + x_{19} + x_{20} + x_{21} + x_{22} + x_{23} + x_{24} + x_{25} + x_{26} + x_{27} + x_{28} + x_{29} + x_{30} + x_{31} + x_{32} + x_{33} + x_{34} + x_{35} + x_{36} + x_{37} + x_{38} + x_{39} + x_{40} + x_{41} + x_{42} + x_{43} + x_{44} + x_{45} + x_{46} + x_{47} + x_{48} + x_{49} + x_{50} $$"
      ],
      "text/plain": [
       "x[1] + x[2] + x[3] + x[4] + x[5] + x[6] + x[7] + x[8] + x[9] + x[10] + x[11] + x[12] + x[13] + x[14] + x[15] + x[16] + x[17] + x[18] + x[19] + x[20] + x[21] + x[22] + x[23] + x[24] + x[25] + x[26] + x[27] + x[28] + x[29] + x[30] + x[31] + x[32] + x[33] + x[34] + x[35] + x[36] + x[37] + x[38] + x[39] + x[40] + x[41] + x[42] + x[43] + x[44] + x[45] + x[46] + x[47] + x[48] + x[49] + x[50]"
      ]
     },
     "execution_count": 18,
     "metadata": {},
     "output_type": "execute_result"
    }
   ],
   "source": [
    "num_nodes = 50\n",
    "\n",
    "m = Model(solver=GurobiSolver(OutputFlag=0))\n",
    "\n",
    "@variable(m, x[1:num_nodes],Bin)\n",
    "\n",
    "for row in eachrow(df)\n",
    "    v = vec(convert(Array, row)) # no transpose necessary\n",
    "    @constraint(m, sum(x[i] for i in v if !ismissing(i)) >= 1)\n",
    "end\n",
    "\n",
    "@objective(m, Min, sum(x[i] for i in 1:num_nodes))\n"
   ]
  },
  {
   "cell_type": "code",
   "execution_count": null,
   "metadata": {},
   "outputs": [],
   "source": [
    "# Additional constraints\n",
    "\n",
    "# Safety concerns\n",
    "# Assume some array of blacklisted notes, b\n",
    "@constraint(m, sum(x[i] for i in b) == 0)\n",
    "\n",
    "# Environmental cost or electricity cost\n",
    "# Assume some environmental or electicity cost array, e,\n",
    "# where e[i] is the environmental or electricity cost associated\n",
    "# with installing an EV charger at node i\n",
    "@objective(m, Min, sum(x[i]*e[i] for i in 1:num_nodes))"
   ]
  },
  {
   "cell_type": "code",
   "execution_count": 19,
   "metadata": {},
   "outputs": [
    {
     "name": "stdout",
     "output_type": "stream",
     "text": [
      "Academic license - for non-commercial use only\n"
     ]
    },
    {
     "data": {
      "text/plain": [
       ":Optimal"
      ]
     },
     "execution_count": 19,
     "metadata": {},
     "output_type": "execute_result"
    }
   ],
   "source": [
    "status = solve(m)"
   ]
  },
  {
   "cell_type": "code",
   "execution_count": 20,
   "metadata": {},
   "outputs": [
    {
     "name": "stderr",
     "output_type": "stream",
     "text": [
      "\u001b[1m\u001b[36mINFO: \u001b[39m\u001b[22m\u001b[36mRemoving Gurobi v0.5.7\n",
      "\u001b[39m\u001b[1m\u001b[36mINFO: \u001b[39m\u001b[22m\u001b[36mPackage database updated\n",
      "\u001b[39m\u001b[1m\u001b[36mINFO: \u001b[39m\u001b[22m\u001b[36mInstalling Gurobi v0.5.7\n",
      "\u001b[39m\u001b[1m\u001b[36mINFO: \u001b[39m\u001b[22m\u001b[36mBuilding Gurobi\n",
      "\u001b[39m\u001b[1m\u001b[36mINFO: \u001b[39m\u001b[22m\u001b[36mPackage database updated\n",
      "\u001b[39m\u001b[1m\u001b[36mINFO: \u001b[39m\u001b[22m\u001b[36mMETADATA is out-of-date — you may not have the latest version of Gurobi\n",
      "\u001b[39m\u001b[1m\u001b[36mINFO: \u001b[39m\u001b[22m\u001b[36mUse `Pkg.update()` to get the latest versions of your packages\n",
      "\u001b[39m\u001b[1m\u001b[36mINFO: \u001b[39m\u001b[22m\u001b[36mBuilding Gurobi\n",
      "\u001b[39m"
     ]
    }
   ],
   "source": [
    "# Pkg.rm(\"Gurobi\")\n",
    "# Pkg.add(\"Gurobi\")\n",
    "# Pkg.build(\"Gurobi\")"
   ]
  },
  {
   "cell_type": "code",
   "execution_count": 21,
   "metadata": {},
   "outputs": [
    {
     "name": "stdout",
     "output_type": "stream",
     "text": [
      "5\n",
      "6\n",
      "13\n",
      "16\n",
      "20\n",
      "31\n",
      "35\n",
      "39\n"
     ]
    }
   ],
   "source": [
    "for row = 1:length(getvalue(x))\n",
    "    if getvalue(x)[row] == 1.0\n",
    "        println(row)\n",
    "    end\n",
    "end"
   ]
  },
  {
   "cell_type": "code",
   "execution_count": 47,
   "metadata": {},
   "outputs": [
    {
     "data": {
      "text/html": [
       "<table class=\"data-frame\"><thead><tr><th></th><th>station_1</th><th>station_2</th><th>station_3</th></tr></thead><tbody><tr><th>1</th><td>2</td><td>missing</td><td>missing</td></tr></tbody></table>"
      ],
      "text/plain": [
       "1×3 DataFrames.DataFrame\n",
       "│ Row │ station_1 │ station_2 │ station_3 │\n",
       "├─────┼───────────┼───────────┼───────────┤\n",
       "│ 1   │ 2         │ \u001b[90mmissing\u001b[39m   │ \u001b[90mmissing\u001b[39m   │"
      ]
     },
     "execution_count": 47,
     "metadata": {},
     "output_type": "execute_result"
    }
   ],
   "source": []
  },
  {
   "cell_type": "code",
   "execution_count": 64,
   "metadata": {},
   "outputs": [
    {
     "data": {
      "text/plain": [
       "false"
      ]
     },
     "execution_count": 64,
     "metadata": {},
     "output_type": "execute_result"
    }
   ],
   "source": [
    " ismissing(df[1,1])"
   ]
  },
  {
   "cell_type": "code",
   "execution_count": 68,
   "metadata": {},
   "outputs": [
    {
     "data": {
      "text/latex": [
       "$$ \\begin{alignat*}{1}\\min\\quad & 0\\\\\n",
       "\\text{Subject to} \\quad & x_{2} \\geq 1\\\\\n",
       " & x_{2} + x_{3} \\geq 1\\\\\n",
       " & x_{2} \\geq 1\\\\\n",
       " & x_{8} \\geq 1\\\\\n",
       " & x_{2} + x_{3} \\geq 1\\\\\n",
       " & x_{2} + x_{5} \\geq 1\\\\\n",
       " & x_{2} \\geq 1\\\\\n",
       " & x_{2} + x_{11} \\geq 1\\\\\n",
       " & x_{2} + x_{5} \\geq 1\\\\\n",
       " & x_{2} + x_{11} \\geq 1\\\\\n",
       " & x_{2} + x_{11} \\geq 1\\\\\n",
       " & x_{2} + x_{11} + x_{15} \\geq 1\\\\\n",
       " & x_{2} + x_{5} \\geq 1\\\\\n",
       " & x_{2} \\geq 1\\\\\n",
       " & x_{2} + x_{3} \\geq 1\\\\\n",
       " & x_{2} \\geq 1\\\\\n",
       " & x_{2} + x_{3} \\geq 1\\\\\n",
       " & x_{2} + x_{5} \\geq 1\\\\\n",
       " & x_{11} \\geq 1\\\\\n",
       " & x_{2} + x_{5} \\geq 1\\\\\n",
       " & x_{11} \\geq 1\\\\\n",
       " & x_{11} \\geq 1\\\\\n",
       " & x_{11} + x_{15} \\geq 1\\\\\n",
       " & x_{2} + x_{5} \\geq 1\\\\\n",
       " & x_{3} \\geq 1\\\\\n",
       " & x_{3} \\geq 1\\\\\n",
       " & x_{5} \\geq 1\\\\\n",
       " & x_{11} \\geq 1\\\\\n",
       " & x_{5} \\geq 1\\\\\n",
       " & x_{11} \\geq 1\\\\\n",
       " & x_{11} \\geq 1\\\\\n",
       " & x_{11} + x_{15} \\geq 1\\\\\n",
       " & x_{5} \\geq 1\\\\\n",
       " & x_{2} \\geq 1\\\\\n",
       " & x_{2} \\geq 1\\\\\n",
       " & x_{2} \\geq 1\\\\\n",
       " & x_{2} \\geq 1\\\\\n",
       " & x_{9} \\geq 1\\\\\n",
       " & x_{9} \\geq 1\\\\\n",
       " & x_{9} \\geq 1\\\\\n",
       " & x_{9} + x_{15} \\geq 1\\\\\n",
       " & x_{2} \\geq 1\\\\\n",
       " & x_{3} + x_{2} \\geq 1\\\\\n",
       " & x_{3} + x_{2} \\geq 1\\\\\n",
       " & x_{3} + x_{2} \\geq 1\\\\\n",
       " & x_{3} \\geq 1\\\\\n",
       " & x_{3} + x_{2} \\geq 1\\\\\n",
       " & x_{3} + x_{9} \\geq 1\\\\\n",
       " & x_{3} + x_{9} \\geq 1\\\\\n",
       " & x_{3} + x_{9} \\geq 1\\\\\n",
       " & x_{3} + x_{9} + x_{15} \\geq 1\\\\\n",
       " & x_{10} \\geq 1\\\\\n",
       " & x_{3} + x_{2} \\geq 1\\\\\n",
       " & x_{2} \\geq 1\\\\\n",
       " & x_{2} \\geq 1\\\\\n",
       " & x_{2} \\geq 1\\\\\n",
       " & x_{2} \\geq 1\\\\\n",
       " & x_{9} \\geq 1\\\\\n",
       " & x_{9} \\geq 1\\\\\n",
       " & x_{9} \\geq 1\\\\\n",
       " & x_{9} + x_{15} \\geq 1\\\\\n",
       " & x_{2} \\geq 1\\\\\n",
       " & x_{2} + x_{3} \\geq 1\\\\\n",
       " & x_{2} + x_{5} \\geq 1\\\\\n",
       " & x_{2} \\geq 1\\\\\n",
       " & x_{2} + x_{11} \\geq 1\\\\\n",
       " & x_{2} + x_{5} \\geq 1\\\\\n",
       " & x_{2} + x_{11} \\geq 1\\\\\n",
       " & x_{2} + x_{11} \\geq 1\\\\\n",
       " & x_{2} + x_{11} + x_{15} \\geq 1\\\\\n",
       " & x_{2} + x_{5} \\geq 1\\\\\n",
       " & x_{8} + x_{11} + x_{12} \\geq 1\\\\\n",
       " & x_{2} + x_{5} \\geq 1\\\\\n",
       " & x_{8} \\geq 1\\\\\n",
       " & x_{8} + x_{11} \\geq 1\\\\\n",
       " & x_{2} + x_{5} \\geq 1\\\\\n",
       " & x_{8} + x_{11} \\geq 1\\\\\n",
       " & x_{8} + x_{11} \\geq 1\\\\\n",
       " & x_{8} + x_{11} + x_{15} \\geq 1\\\\\n",
       " & x_{2} + x_{5} \\geq 1\\\\\n",
       " & x_{11} + x_{12} \\geq 1\\\\\n",
       " & x_{2} + x_{5} \\geq 1\\\\\n",
       " & x_{11} \\geq 1\\\\\n",
       " & x_{2} + x_{5} \\geq 1\\\\\n",
       " & x_{11} \\geq 1\\\\\n",
       " & x_{11} \\geq 1\\\\\n",
       " & x_{11} + x_{15} \\geq 1\\\\\n",
       " & x_{2} + x_{5} \\geq 1\\\\\n",
       " & x_{17} \\geq 1\\\\\n",
       " & x_{14} \\geq 1\\\\\n",
       " & x_{17} \\geq 1\\\\\n",
       " & x_{15} \\geq 1\\\\\n",
       " & x_{3} + x_{2} \\geq 1\\\\\n",
       " & x_{3} + x_{2} \\geq 1\\\\\n",
       " & x_{3} + x_{9} \\geq 1\\\\\n",
       " & x_{3} + x_{9} \\geq 1\\\\\n",
       " & x_{3} + x_{9} \\geq 1\\\\\n",
       " & x_{3} + x_{9} + x_{15} \\geq 1\\\\\n",
       " & x_{3} + x_{2} \\geq 1\\\\\n",
       " & x_{2} + x_{5} \\geq 1\\\\\n",
       " & x_{15} \\geq 1\\\\\n",
       " & x_{12} \\geq 1\\\\\n",
       " & x_{17} \\geq 1\\\\\n",
       " & x_{11} \\geq 1\\\\\n",
       " & x_{3} + x_{9} \\geq 1\\\\\n",
       " & x_{3} + x_{9} \\geq 1\\\\\n",
       " & x_{3} + x_{9} + x_{15} \\geq 1\\\\\n",
       " & x_{3} + x_{2} \\geq 1\\\\\n",
       " & x_{9} \\geq 1\\\\\n",
       " & x_{11} \\geq 1\\\\\n",
       " & x_{11} \\geq 1\\\\\n",
       " & x_{12} \\geq 1\\\\\n",
       " & x_{14} + x_{11} \\geq 1\\\\\n",
       " & x_{3} + x_{2} \\geq 1\\\\\n",
       " & x_{i} \\in \\{0,1\\} \\quad\\forall i \\in \\{1,2,\\dots,17,18\\}\\\\\n",
       "\\end{alignat*}\n",
       " $$"
      ],
      "text/plain": [
       "Feasibility problem with:\n",
       " * 114 linear constraints\n",
       " * 18 variables: 18 binary\n",
       "Solver is Gurobi"
      ]
     },
     "execution_count": 68,
     "metadata": {},
     "output_type": "execute_result"
    }
   ],
   "source": [
    "m"
   ]
  },
  {
   "cell_type": "code",
   "execution_count": null,
   "metadata": {},
   "outputs": [],
   "source": []
  }
 ],
 "metadata": {
  "kernelspec": {
   "display_name": "Julia 0.6.4",
   "language": "julia",
   "name": "julia-0.6"
  },
  "language_info": {
   "file_extension": ".jl",
   "mimetype": "application/julia",
   "name": "julia",
   "version": "0.6.4"
  }
 },
 "nbformat": 4,
 "nbformat_minor": 2
}
