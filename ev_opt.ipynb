{
 "cells": [
  {
   "cell_type": "code",
   "execution_count": 2,
   "metadata": {},
   "outputs": [
    {
     "name": "stderr",
     "output_type": "stream",
     "text": [
      "┌ Info: Recompiling stale cache file C:\\Users\\steph\\.julia\\compiled\\v1.0\\Gurobi\\do9v6.ji for Gurobi [2e9cd046-0924-5485-92f1-d5272153d98b]\n",
      "└ @ Base loading.jl:1190\n",
      "┌ Info: Recompiling stale cache file C:\\Users\\steph\\.julia\\compiled\\v1.0\\CSV\\HHBkp.ji for CSV [336ed68f-0bac-5ca0-87d4-7b16caf5d00b]\n",
      "└ @ Base loading.jl:1190\n",
      "┌ Info: Recompiling stale cache file C:\\Users\\steph\\.julia\\compiled\\v1.0\\JuMP\\DmXqY.ji for JuMP [4076af6c-e467-56ae-b986-b466b2749572]\n",
      "└ @ Base loading.jl:1190\n"
     ]
    }
   ],
   "source": [
    "using Gurobi\n",
    "using CSV\n",
    "using DataFrames\n",
    "using JuMP"
   ]
  },
  {
   "cell_type": "code",
   "execution_count": 1,
   "metadata": {},
   "outputs": [
    {
     "name": "stdout",
     "output_type": "stream",
     "text": [
      "\u001b[32m\u001b[1m  Updating\u001b[22m\u001b[39m registry at `C:\\Users\\steph\\.julia\\registries\\General`\n",
      "\u001b[32m\u001b[1m  Updating\u001b[22m\u001b[39m git-repo `https://github.com/JuliaRegistries/General.git`\n",
      "\u001b[?25l\u001b[2K\u001b[?25h"
     ]
    }
   ],
   "source": [
    "import Pkg\n",
    "Pkg.activate(@__DIR__)\n",
    "Pkg.instantiate()"
   ]
  },
  {
   "cell_type": "code",
   "execution_count": 9,
   "metadata": {},
   "outputs": [
    {
     "data": {
      "text/html": [
       "<table class=\"data-frame\"><thead><tr><th></th><th>station_1</th><th>station_2</th><th>station_3</th><th>station_4</th><th>station_5</th><th>station_6</th><th>station_7</th><th>station_8</th><th>station_9</th></tr><tr><th></th><th>Int64⍰</th><th>Int64⍰</th><th>Int64⍰</th><th>Int64⍰</th><th>Int64⍰</th><th>Int64⍰</th><th>Int64⍰</th><th>Int64⍰</th><th>Int64⍰</th></tr></thead><tbody><p>3,236 rows × 9 columns</p><tr><th>1</th><td>2</td><td>6</td><td>missing</td><td>missing</td><td>missing</td><td>missing</td><td>missing</td><td>missing</td><td>missing</td></tr><tr><th>2</th><td>6</td><td>missing</td><td>missing</td><td>missing</td><td>missing</td><td>missing</td><td>missing</td><td>missing</td><td>missing</td></tr><tr><th>3</th><td>3</td><td>4</td><td>5</td><td>19</td><td>missing</td><td>missing</td><td>missing</td><td>missing</td><td>missing</td></tr><tr><th>4</th><td>4</td><td>5</td><td>19</td><td>missing</td><td>missing</td><td>missing</td><td>missing</td><td>missing</td><td>missing</td></tr><tr><th>5</th><td>5</td><td>19</td><td>missing</td><td>missing</td><td>missing</td><td>missing</td><td>missing</td><td>missing</td><td>missing</td></tr><tr><th>6</th><td>3</td><td>4</td><td>5</td><td>19</td><td>missing</td><td>missing</td><td>missing</td><td>missing</td><td>missing</td></tr><tr><th>7</th><td>4</td><td>5</td><td>19</td><td>missing</td><td>missing</td><td>missing</td><td>missing</td><td>missing</td><td>missing</td></tr><tr><th>8</th><td>3</td><td>4</td><td>5</td><td>16</td><td>missing</td><td>missing</td><td>missing</td><td>missing</td><td>missing</td></tr><tr><th>9</th><td>3</td><td>4</td><td>5</td><td>16</td><td>missing</td><td>missing</td><td>missing</td><td>missing</td><td>missing</td></tr><tr><th>10</th><td>3</td><td>4</td><td>5</td><td>missing</td><td>missing</td><td>missing</td><td>missing</td><td>missing</td><td>missing</td></tr><tr><th>11</th><td>3</td><td>4</td><td>5</td><td>19</td><td>missing</td><td>missing</td><td>missing</td><td>missing</td><td>missing</td></tr><tr><th>12</th><td>3</td><td>4</td><td>5</td><td>19</td><td>missing</td><td>missing</td><td>missing</td><td>missing</td><td>missing</td></tr><tr><th>13</th><td>3</td><td>11</td><td>12</td><td>13</td><td>14</td><td>missing</td><td>missing</td><td>missing</td><td>missing</td></tr><tr><th>14</th><td>3</td><td>11</td><td>12</td><td>13</td><td>14</td><td>missing</td><td>missing</td><td>missing</td><td>missing</td></tr><tr><th>15</th><td>3</td><td>11</td><td>12</td><td>13</td><td>14</td><td>missing</td><td>missing</td><td>missing</td><td>missing</td></tr><tr><th>16</th><td>11</td><td>12</td><td>13</td><td>14</td><td>22</td><td>23</td><td>missing</td><td>missing</td><td>missing</td></tr><tr><th>17</th><td>3</td><td>4</td><td>5</td><td>16</td><td>17</td><td>missing</td><td>missing</td><td>missing</td><td>missing</td></tr><tr><th>18</th><td>3</td><td>4</td><td>5</td><td>19</td><td>missing</td><td>missing</td><td>missing</td><td>missing</td><td>missing</td></tr><tr><th>19</th><td>4</td><td>5</td><td>19</td><td>20</td><td>missing</td><td>missing</td><td>missing</td><td>missing</td><td>missing</td></tr><tr><th>20</th><td>5</td><td>19</td><td>20</td><td>missing</td><td>missing</td><td>missing</td><td>missing</td><td>missing</td><td>missing</td></tr><tr><th>21</th><td>3</td><td>11</td><td>12</td><td>13</td><td>14</td><td>missing</td><td>missing</td><td>missing</td><td>missing</td></tr><tr><th>22</th><td>11</td><td>12</td><td>13</td><td>14</td><td>22</td><td>missing</td><td>missing</td><td>missing</td><td>missing</td></tr><tr><th>23</th><td>12</td><td>13</td><td>14</td><td>22</td><td>missing</td><td>missing</td><td>missing</td><td>missing</td><td>missing</td></tr><tr><th>24</th><td>3</td><td>11</td><td>12</td><td>13</td><td>14</td><td>missing</td><td>missing</td><td>missing</td><td>missing</td></tr><tr><th>25</th><td>11</td><td>12</td><td>13</td><td>14</td><td>22</td><td>23</td><td>missing</td><td>missing</td><td>missing</td></tr><tr><th>26</th><td>3</td><td>11</td><td>12</td><td>13</td><td>14</td><td>missing</td><td>missing</td><td>missing</td><td>missing</td></tr><tr><th>27</th><td>11</td><td>12</td><td>13</td><td>14</td><td>22</td><td>23</td><td>missing</td><td>missing</td><td>missing</td></tr><tr><th>28</th><td>12</td><td>13</td><td>14</td><td>22</td><td>23</td><td>missing</td><td>missing</td><td>missing</td><td>missing</td></tr><tr><th>29</th><td>13</td><td>14</td><td>22</td><td>23</td><td>missing</td><td>missing</td><td>missing</td><td>missing</td><td>missing</td></tr><tr><th>30</th><td>3</td><td>4</td><td>5</td><td>16</td><td>17</td><td>missing</td><td>missing</td><td>missing</td><td>missing</td></tr><tr><th>&vellip;</th><td>&vellip;</td><td>&vellip;</td><td>&vellip;</td><td>&vellip;</td><td>&vellip;</td><td>&vellip;</td><td>&vellip;</td><td>&vellip;</td><td>&vellip;</td></tr></tbody></table>"
      ],
      "text/latex": [
       "\\begin{tabular}{r|ccccccccc}\n",
       "\t& station\\_1 & station\\_2 & station\\_3 & station\\_4 & station\\_5 & station\\_6 & station\\_7 & station\\_8 & station\\_9\\\\\n",
       "\t\\hline\n",
       "\t& Int64⍰ & Int64⍰ & Int64⍰ & Int64⍰ & Int64⍰ & Int64⍰ & Int64⍰ & Int64⍰ & Int64⍰\\\\\n",
       "\t\\hline\n",
       "\t1 & 2 & 6 &  &  &  &  &  &  &  \\\\\n",
       "\t2 & 6 &  &  &  &  &  &  &  &  \\\\\n",
       "\t3 & 3 & 4 & 5 & 19 &  &  &  &  &  \\\\\n",
       "\t4 & 4 & 5 & 19 &  &  &  &  &  &  \\\\\n",
       "\t5 & 5 & 19 &  &  &  &  &  &  &  \\\\\n",
       "\t6 & 3 & 4 & 5 & 19 &  &  &  &  &  \\\\\n",
       "\t7 & 4 & 5 & 19 &  &  &  &  &  &  \\\\\n",
       "\t8 & 3 & 4 & 5 & 16 &  &  &  &  &  \\\\\n",
       "\t9 & 3 & 4 & 5 & 16 &  &  &  &  &  \\\\\n",
       "\t10 & 3 & 4 & 5 &  &  &  &  &  &  \\\\\n",
       "\t11 & 3 & 4 & 5 & 19 &  &  &  &  &  \\\\\n",
       "\t12 & 3 & 4 & 5 & 19 &  &  &  &  &  \\\\\n",
       "\t13 & 3 & 11 & 12 & 13 & 14 &  &  &  &  \\\\\n",
       "\t14 & 3 & 11 & 12 & 13 & 14 &  &  &  &  \\\\\n",
       "\t15 & 3 & 11 & 12 & 13 & 14 &  &  &  &  \\\\\n",
       "\t16 & 11 & 12 & 13 & 14 & 22 & 23 &  &  &  \\\\\n",
       "\t17 & 3 & 4 & 5 & 16 & 17 &  &  &  &  \\\\\n",
       "\t18 & 3 & 4 & 5 & 19 &  &  &  &  &  \\\\\n",
       "\t19 & 4 & 5 & 19 & 20 &  &  &  &  &  \\\\\n",
       "\t20 & 5 & 19 & 20 &  &  &  &  &  &  \\\\\n",
       "\t21 & 3 & 11 & 12 & 13 & 14 &  &  &  &  \\\\\n",
       "\t22 & 11 & 12 & 13 & 14 & 22 &  &  &  &  \\\\\n",
       "\t23 & 12 & 13 & 14 & 22 &  &  &  &  &  \\\\\n",
       "\t24 & 3 & 11 & 12 & 13 & 14 &  &  &  &  \\\\\n",
       "\t25 & 11 & 12 & 13 & 14 & 22 & 23 &  &  &  \\\\\n",
       "\t26 & 3 & 11 & 12 & 13 & 14 &  &  &  &  \\\\\n",
       "\t27 & 11 & 12 & 13 & 14 & 22 & 23 &  &  &  \\\\\n",
       "\t28 & 12 & 13 & 14 & 22 & 23 &  &  &  &  \\\\\n",
       "\t29 & 13 & 14 & 22 & 23 &  &  &  &  &  \\\\\n",
       "\t30 & 3 & 4 & 5 & 16 & 17 &  &  &  &  \\\\\n",
       "\t$\\dots$ & $\\dots$ & $\\dots$ & $\\dots$ & $\\dots$ & $\\dots$ & $\\dots$ & $\\dots$ & $\\dots$ & $\\dots$ \\\\\n",
       "\\end{tabular}\n"
      ],
      "text/plain": [
       "3236×9 DataFrame. Omitted printing of 3 columns\n",
       "│ Row  │ station_1 │ station_2 │ station_3 │ station_4 │ station_5 │ station_6 │\n",
       "│      │ \u001b[90mInt64⍰\u001b[39m    │ \u001b[90mInt64⍰\u001b[39m    │ \u001b[90mInt64⍰\u001b[39m    │ \u001b[90mInt64⍰\u001b[39m    │ \u001b[90mInt64⍰\u001b[39m    │ \u001b[90mInt64⍰\u001b[39m    │\n",
       "├──────┼───────────┼───────────┼───────────┼───────────┼───────────┼───────────┤\n",
       "│ 1    │ 2         │ 6         │ \u001b[90mmissing\u001b[39m   │ \u001b[90mmissing\u001b[39m   │ \u001b[90mmissing\u001b[39m   │ \u001b[90mmissing\u001b[39m   │\n",
       "│ 2    │ 6         │ \u001b[90mmissing\u001b[39m   │ \u001b[90mmissing\u001b[39m   │ \u001b[90mmissing\u001b[39m   │ \u001b[90mmissing\u001b[39m   │ \u001b[90mmissing\u001b[39m   │\n",
       "│ 3    │ 3         │ 4         │ 5         │ 19        │ \u001b[90mmissing\u001b[39m   │ \u001b[90mmissing\u001b[39m   │\n",
       "│ 4    │ 4         │ 5         │ 19        │ \u001b[90mmissing\u001b[39m   │ \u001b[90mmissing\u001b[39m   │ \u001b[90mmissing\u001b[39m   │\n",
       "│ 5    │ 5         │ 19        │ \u001b[90mmissing\u001b[39m   │ \u001b[90mmissing\u001b[39m   │ \u001b[90mmissing\u001b[39m   │ \u001b[90mmissing\u001b[39m   │\n",
       "│ 6    │ 3         │ 4         │ 5         │ 19        │ \u001b[90mmissing\u001b[39m   │ \u001b[90mmissing\u001b[39m   │\n",
       "│ 7    │ 4         │ 5         │ 19        │ \u001b[90mmissing\u001b[39m   │ \u001b[90mmissing\u001b[39m   │ \u001b[90mmissing\u001b[39m   │\n",
       "│ 8    │ 3         │ 4         │ 5         │ 16        │ \u001b[90mmissing\u001b[39m   │ \u001b[90mmissing\u001b[39m   │\n",
       "│ 9    │ 3         │ 4         │ 5         │ 16        │ \u001b[90mmissing\u001b[39m   │ \u001b[90mmissing\u001b[39m   │\n",
       "│ 10   │ 3         │ 4         │ 5         │ \u001b[90mmissing\u001b[39m   │ \u001b[90mmissing\u001b[39m   │ \u001b[90mmissing\u001b[39m   │\n",
       "⋮\n",
       "│ 3226 │ 35        │ 41        │ 42        │ \u001b[90mmissing\u001b[39m   │ \u001b[90mmissing\u001b[39m   │ \u001b[90mmissing\u001b[39m   │\n",
       "│ 3227 │ 36        │ 35        │ 34        │ 39        │ 45        │ \u001b[90mmissing\u001b[39m   │\n",
       "│ 3228 │ 36        │ 35        │ 34        │ 39        │ 45        │ 46        │\n",
       "│ 3229 │ 36        │ 35        │ 34        │ 39        │ 45        │ 46        │\n",
       "│ 3230 │ 35        │ 34        │ 39        │ 45        │ 46        │ 48        │\n",
       "│ 3231 │ 36        │ 35        │ 34        │ 39        │ 45        │ 46        │\n",
       "│ 3232 │ 41        │ 40        │ 43        │ 31        │ 45        │ 46        │\n",
       "│ 3233 │ 42        │ 43        │ 31        │ 45        │ \u001b[90mmissing\u001b[39m   │ \u001b[90mmissing\u001b[39m   │\n",
       "│ 3234 │ 42        │ 43        │ 31        │ 45        │ 46        │ \u001b[90mmissing\u001b[39m   │\n",
       "│ 3235 │ 42        │ 43        │ 31        │ 45        │ 46        │ \u001b[90mmissing\u001b[39m   │\n",
       "│ 3236 │ 42        │ 43        │ 31        │ 45        │ 46        │ \u001b[90mmissing\u001b[39m   │"
      ]
     },
     "execution_count": 9,
     "metadata": {},
     "output_type": "execute_result"
    }
   ],
   "source": [
    "df = CSV.read(\"ev_constraints.csv\", header = true, missingstring=\"\\n\")"
   ]
  },
  {
   "cell_type": "code",
   "execution_count": 10,
   "metadata": {},
   "outputs": [
    {
     "name": "stderr",
     "output_type": "stream",
     "text": [
      "┌ Warning: `convert(::Type{Array}, dfr::DataFrameRow)` is deprecated, use `permutedims(Vector(dfr))` instead.\n",
      "│   caller = top-level scope at In[10]:8\n",
      "└ @ Core .\\In[10]:8\n"
     ]
    },
    {
     "data": {
      "text/latex": [
       "$$ x_{1} + x_{2} + x_{3} + x_{4} + x_{5} + x_{6} + x_{7} + x_{8} + x_{9} + x_{10} + x_{11} + x_{12} + x_{13} + x_{14} + x_{15} + x_{16} + x_{17} + x_{18} + x_{19} + x_{20} + x_{21} + x_{22} + x_{23} + x_{24} + x_{25} + x_{26} + x_{27} + x_{28} + x_{29} + x_{30} + x_{31} + x_{32} + x_{33} + x_{34} + x_{35} + x_{36} + x_{37} + x_{38} + x_{39} + x_{40} + x_{41} + x_{42} + x_{43} + x_{44} + x_{45} + x_{46} + x_{47} + x_{48} + x_{49} + x_{50} $$"
      ],
      "text/plain": [
       "x[1] + x[2] + x[3] + x[4] + x[5] + x[6] + x[7] + x[8] + x[9] + x[10] + x[11] + x[12] + x[13] + x[14] + x[15] + x[16] + x[17] + x[18] + x[19] + x[20] + x[21] + x[22] + x[23] + x[24] + x[25] + x[26] + x[27] + x[28] + x[29] + x[30] + x[31] + x[32] + x[33] + x[34] + x[35] + x[36] + x[37] + x[38] + x[39] + x[40] + x[41] + x[42] + x[43] + x[44] + x[45] + x[46] + x[47] + x[48] + x[49] + x[50]"
      ]
     },
     "execution_count": 10,
     "metadata": {},
     "output_type": "execute_result"
    }
   ],
   "source": [
    "num_nodes = 50\n",
    "\n",
    "m = Model(solver=GurobiSolver(OutputFlag=0))\n",
    "\n",
    "@variable(m, x[1:num_nodes],Bin)\n",
    "\n",
    "for row in eachrow(df)\n",
    "    v = vec(convert(Array, row)) # no transpose necessary\n",
    "    @constraint(m, sum(x[i] for i in v if !ismissing(i)) >= 1)\n",
    "end\n",
    "\n",
    "@objective(m, Min, sum(x[i] for i in 1:num_nodes))\n"
   ]
  },
  {
   "cell_type": "code",
   "execution_count": 11,
   "metadata": {},
   "outputs": [
    {
     "name": "stdout",
     "output_type": "stream",
     "text": [
      "Academic license - for non-commercial use only\r\n"
     ]
    },
    {
     "data": {
      "text/plain": [
       ":Optimal"
      ]
     },
     "execution_count": 11,
     "metadata": {},
     "output_type": "execute_result"
    }
   ],
   "source": [
    "status = solve(m)"
   ]
  },
  {
   "cell_type": "code",
   "execution_count": 15,
   "metadata": {},
   "outputs": [
    {
     "name": "stdout",
     "output_type": "stream",
     "text": [
      "\u001b[32m\u001b[1m  Updating\u001b[22m\u001b[39m `C:\\Users\\steph\\Downloads\\15.053_2019SP-master (2)\\15.053_2019SP-master\\Project.toml`\n",
      " \u001b[90m [2e9cd046]\u001b[39m\u001b[91m - Gurobi v0.6.0\u001b[39m\n",
      "\u001b[32m\u001b[1m  Updating\u001b[22m\u001b[39m `C:\\Users\\steph\\Downloads\\15.053_2019SP-master (2)\\15.053_2019SP-master\\Manifest.toml`\n",
      " \u001b[90m [2e9cd046]\u001b[39m\u001b[91m - Gurobi v0.6.0\u001b[39m\n",
      "\u001b[32m\u001b[1m Resolving\u001b[22m\u001b[39m package versions...\n",
      "\u001b[32m\u001b[1m  Updating\u001b[22m\u001b[39m `C:\\Users\\steph\\Downloads\\15.053_2019SP-master (2)\\15.053_2019SP-master\\Project.toml`\n",
      " \u001b[90m [2e9cd046]\u001b[39m\u001b[92m + Gurobi v0.6.0\u001b[39m\n",
      "\u001b[32m\u001b[1m  Updating\u001b[22m\u001b[39m `C:\\Users\\steph\\Downloads\\15.053_2019SP-master (2)\\15.053_2019SP-master\\Manifest.toml`\n",
      " \u001b[90m [2e9cd046]\u001b[39m\u001b[92m + Gurobi v0.6.0\u001b[39m\n",
      "\u001b[32m\u001b[1m  Building\u001b[22m\u001b[39m Gurobi → `C:\\Users\\steph\\.julia\\packages\\Gurobi\\dlJep\\deps\\build.log`\n"
     ]
    }
   ],
   "source": [
    "Pkg.rm(\"Gurobi\")\n",
    "Pkg.add(\"Gurobi\")\n",
    "Pkg.build(\"Gurobi\")"
   ]
  },
  {
   "cell_type": "code",
   "execution_count": 14,
   "metadata": {},
   "outputs": [
    {
     "name": "stdout",
     "output_type": "stream",
     "text": [
      "5\n",
      "6\n",
      "13\n",
      "16\n",
      "20\n",
      "31\n",
      "35\n",
      "39\n"
     ]
    }
   ],
   "source": [
    "for row = 1:length(getvalue(x))\n",
    "    if getvalue(x)[row] == 1.0\n",
    "        println(row)\n",
    "    end\n",
    "end"
   ]
  },
  {
   "cell_type": "code",
   "execution_count": 47,
   "metadata": {},
   "outputs": [
    {
     "data": {
      "text/html": [
       "<table class=\"data-frame\"><thead><tr><th></th><th>station_1</th><th>station_2</th><th>station_3</th></tr></thead><tbody><tr><th>1</th><td>2</td><td>missing</td><td>missing</td></tr></tbody></table>"
      ],
      "text/plain": [
       "1×3 DataFrames.DataFrame\n",
       "│ Row │ station_1 │ station_2 │ station_3 │\n",
       "├─────┼───────────┼───────────┼───────────┤\n",
       "│ 1   │ 2         │ \u001b[90mmissing\u001b[39m   │ \u001b[90mmissing\u001b[39m   │"
      ]
     },
     "execution_count": 47,
     "metadata": {},
     "output_type": "execute_result"
    }
   ],
   "source": []
  },
  {
   "cell_type": "code",
   "execution_count": 64,
   "metadata": {},
   "outputs": [
    {
     "data": {
      "text/plain": [
       "false"
      ]
     },
     "execution_count": 64,
     "metadata": {},
     "output_type": "execute_result"
    }
   ],
   "source": [
    " ismissing(df[1,1])"
   ]
  },
  {
   "cell_type": "code",
   "execution_count": 68,
   "metadata": {},
   "outputs": [
    {
     "data": {
      "text/latex": [
       "$$ \\begin{alignat*}{1}\\min\\quad & 0\\\\\n",
       "\\text{Subject to} \\quad & x_{2} \\geq 1\\\\\n",
       " & x_{2} + x_{3} \\geq 1\\\\\n",
       " & x_{2} \\geq 1\\\\\n",
       " & x_{8} \\geq 1\\\\\n",
       " & x_{2} + x_{3} \\geq 1\\\\\n",
       " & x_{2} + x_{5} \\geq 1\\\\\n",
       " & x_{2} \\geq 1\\\\\n",
       " & x_{2} + x_{11} \\geq 1\\\\\n",
       " & x_{2} + x_{5} \\geq 1\\\\\n",
       " & x_{2} + x_{11} \\geq 1\\\\\n",
       " & x_{2} + x_{11} \\geq 1\\\\\n",
       " & x_{2} + x_{11} + x_{15} \\geq 1\\\\\n",
       " & x_{2} + x_{5} \\geq 1\\\\\n",
       " & x_{2} \\geq 1\\\\\n",
       " & x_{2} + x_{3} \\geq 1\\\\\n",
       " & x_{2} \\geq 1\\\\\n",
       " & x_{2} + x_{3} \\geq 1\\\\\n",
       " & x_{2} + x_{5} \\geq 1\\\\\n",
       " & x_{11} \\geq 1\\\\\n",
       " & x_{2} + x_{5} \\geq 1\\\\\n",
       " & x_{11} \\geq 1\\\\\n",
       " & x_{11} \\geq 1\\\\\n",
       " & x_{11} + x_{15} \\geq 1\\\\\n",
       " & x_{2} + x_{5} \\geq 1\\\\\n",
       " & x_{3} \\geq 1\\\\\n",
       " & x_{3} \\geq 1\\\\\n",
       " & x_{5} \\geq 1\\\\\n",
       " & x_{11} \\geq 1\\\\\n",
       " & x_{5} \\geq 1\\\\\n",
       " & x_{11} \\geq 1\\\\\n",
       " & x_{11} \\geq 1\\\\\n",
       " & x_{11} + x_{15} \\geq 1\\\\\n",
       " & x_{5} \\geq 1\\\\\n",
       " & x_{2} \\geq 1\\\\\n",
       " & x_{2} \\geq 1\\\\\n",
       " & x_{2} \\geq 1\\\\\n",
       " & x_{2} \\geq 1\\\\\n",
       " & x_{9} \\geq 1\\\\\n",
       " & x_{9} \\geq 1\\\\\n",
       " & x_{9} \\geq 1\\\\\n",
       " & x_{9} + x_{15} \\geq 1\\\\\n",
       " & x_{2} \\geq 1\\\\\n",
       " & x_{3} + x_{2} \\geq 1\\\\\n",
       " & x_{3} + x_{2} \\geq 1\\\\\n",
       " & x_{3} + x_{2} \\geq 1\\\\\n",
       " & x_{3} \\geq 1\\\\\n",
       " & x_{3} + x_{2} \\geq 1\\\\\n",
       " & x_{3} + x_{9} \\geq 1\\\\\n",
       " & x_{3} + x_{9} \\geq 1\\\\\n",
       " & x_{3} + x_{9} \\geq 1\\\\\n",
       " & x_{3} + x_{9} + x_{15} \\geq 1\\\\\n",
       " & x_{10} \\geq 1\\\\\n",
       " & x_{3} + x_{2} \\geq 1\\\\\n",
       " & x_{2} \\geq 1\\\\\n",
       " & x_{2} \\geq 1\\\\\n",
       " & x_{2} \\geq 1\\\\\n",
       " & x_{2} \\geq 1\\\\\n",
       " & x_{9} \\geq 1\\\\\n",
       " & x_{9} \\geq 1\\\\\n",
       " & x_{9} \\geq 1\\\\\n",
       " & x_{9} + x_{15} \\geq 1\\\\\n",
       " & x_{2} \\geq 1\\\\\n",
       " & x_{2} + x_{3} \\geq 1\\\\\n",
       " & x_{2} + x_{5} \\geq 1\\\\\n",
       " & x_{2} \\geq 1\\\\\n",
       " & x_{2} + x_{11} \\geq 1\\\\\n",
       " & x_{2} + x_{5} \\geq 1\\\\\n",
       " & x_{2} + x_{11} \\geq 1\\\\\n",
       " & x_{2} + x_{11} \\geq 1\\\\\n",
       " & x_{2} + x_{11} + x_{15} \\geq 1\\\\\n",
       " & x_{2} + x_{5} \\geq 1\\\\\n",
       " & x_{8} + x_{11} + x_{12} \\geq 1\\\\\n",
       " & x_{2} + x_{5} \\geq 1\\\\\n",
       " & x_{8} \\geq 1\\\\\n",
       " & x_{8} + x_{11} \\geq 1\\\\\n",
       " & x_{2} + x_{5} \\geq 1\\\\\n",
       " & x_{8} + x_{11} \\geq 1\\\\\n",
       " & x_{8} + x_{11} \\geq 1\\\\\n",
       " & x_{8} + x_{11} + x_{15} \\geq 1\\\\\n",
       " & x_{2} + x_{5} \\geq 1\\\\\n",
       " & x_{11} + x_{12} \\geq 1\\\\\n",
       " & x_{2} + x_{5} \\geq 1\\\\\n",
       " & x_{11} \\geq 1\\\\\n",
       " & x_{2} + x_{5} \\geq 1\\\\\n",
       " & x_{11} \\geq 1\\\\\n",
       " & x_{11} \\geq 1\\\\\n",
       " & x_{11} + x_{15} \\geq 1\\\\\n",
       " & x_{2} + x_{5} \\geq 1\\\\\n",
       " & x_{17} \\geq 1\\\\\n",
       " & x_{14} \\geq 1\\\\\n",
       " & x_{17} \\geq 1\\\\\n",
       " & x_{15} \\geq 1\\\\\n",
       " & x_{3} + x_{2} \\geq 1\\\\\n",
       " & x_{3} + x_{2} \\geq 1\\\\\n",
       " & x_{3} + x_{9} \\geq 1\\\\\n",
       " & x_{3} + x_{9} \\geq 1\\\\\n",
       " & x_{3} + x_{9} \\geq 1\\\\\n",
       " & x_{3} + x_{9} + x_{15} \\geq 1\\\\\n",
       " & x_{3} + x_{2} \\geq 1\\\\\n",
       " & x_{2} + x_{5} \\geq 1\\\\\n",
       " & x_{15} \\geq 1\\\\\n",
       " & x_{12} \\geq 1\\\\\n",
       " & x_{17} \\geq 1\\\\\n",
       " & x_{11} \\geq 1\\\\\n",
       " & x_{3} + x_{9} \\geq 1\\\\\n",
       " & x_{3} + x_{9} \\geq 1\\\\\n",
       " & x_{3} + x_{9} + x_{15} \\geq 1\\\\\n",
       " & x_{3} + x_{2} \\geq 1\\\\\n",
       " & x_{9} \\geq 1\\\\\n",
       " & x_{11} \\geq 1\\\\\n",
       " & x_{11} \\geq 1\\\\\n",
       " & x_{12} \\geq 1\\\\\n",
       " & x_{14} + x_{11} \\geq 1\\\\\n",
       " & x_{3} + x_{2} \\geq 1\\\\\n",
       " & x_{i} \\in \\{0,1\\} \\quad\\forall i \\in \\{1,2,\\dots,17,18\\}\\\\\n",
       "\\end{alignat*}\n",
       " $$"
      ],
      "text/plain": [
       "Feasibility problem with:\n",
       " * 114 linear constraints\n",
       " * 18 variables: 18 binary\n",
       "Solver is Gurobi"
      ]
     },
     "execution_count": 68,
     "metadata": {},
     "output_type": "execute_result"
    }
   ],
   "source": [
    "m"
   ]
  },
  {
   "cell_type": "code",
   "execution_count": null,
   "metadata": {},
   "outputs": [],
   "source": []
  }
 ],
 "metadata": {
  "kernelspec": {
   "display_name": "Julia 1.0.3",
   "language": "julia",
   "name": "julia-1.0"
  },
  "language_info": {
   "file_extension": ".jl",
   "mimetype": "application/julia",
   "name": "julia",
   "version": "1.0.3"
  }
 },
 "nbformat": 4,
 "nbformat_minor": 2
}
