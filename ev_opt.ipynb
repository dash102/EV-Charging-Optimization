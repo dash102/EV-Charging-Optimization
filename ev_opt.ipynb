{
 "cells": [
  {
   "cell_type": "code",
   "execution_count": 5,
   "metadata": {},
   "outputs": [
    {
     "name": "stderr",
     "output_type": "stream",
     "text": [
      "┌ Info: Precompiling CSV [336ed68f-0bac-5ca0-87d4-7b16caf5d00b]\n",
      "└ @ Base loading.jl:1192\n",
      "┌ Info: Recompiling stale cache file C:\\Users\\steph\\.julia\\compiled\\v1.0\\JuMP\\DmXqY.ji for JuMP [4076af6c-e467-56ae-b986-b466b2749572]\n",
      "└ @ Base loading.jl:1190\n"
     ]
    }
   ],
   "source": [
    "using Gurobi\n",
    "using CSV\n",
    "using DataFrames\n",
    "using JuMP"
   ]
  },
  {
   "cell_type": "code",
   "execution_count": 10,
   "metadata": {},
   "outputs": [
    {
     "name": "stdout",
     "output_type": "stream",
     "text": [
      "\u001b[32m\u001b[1m  Updating\u001b[22m\u001b[39m registry at `C:\\Users\\steph\\.julia\\registries\\General`\n",
      "\u001b[32m\u001b[1m  Updating\u001b[22m\u001b[39m git-repo `https://github.com/JuliaRegistries/General.git`\n",
      "\u001b[?25l\u001b[2K\u001b[?25h\u001b[32m\u001b[1m Resolving\u001b[22m\u001b[39m package versions...\n"
     ]
    }
   ],
   "source": [
    "import Pkg\n",
    "Pkg.activate(@__DIR__)\n",
    "Pkg.instantiate()"
   ]
  },
  {
   "cell_type": "code",
   "execution_count": 8,
   "metadata": {},
   "outputs": [
    {
     "data": {
      "text/html": [
       "<table class=\"data-frame\"><thead><tr><th></th><th>station_1</th><th>station_2</th><th>station_3</th><th>station_4</th><th>station_5</th><th>station_6</th></tr><tr><th></th><th>Int64⍰</th><th>Int64⍰</th><th>Int64⍰</th><th>Int64⍰</th><th>Int64⍰</th><th>Int64⍰</th></tr></thead><tbody><p>144 rows × 6 columns</p><tr><th>1</th><td>1</td><td>2</td><td>missing</td><td>missing</td><td>missing</td><td>missing</td></tr><tr><th>2</th><td>1</td><td>2</td><td>3</td><td>missing</td><td>missing</td><td>missing</td></tr><tr><th>3</th><td>1</td><td>2</td><td>3</td><td>missing</td><td>missing</td><td>missing</td></tr><tr><th>4</th><td>1</td><td>2</td><td>3</td><td>missing</td><td>missing</td><td>missing</td></tr><tr><th>5</th><td>2</td><td>3</td><td>missing</td><td>missing</td><td>missing</td><td>missing</td></tr><tr><th>6</th><td>3</td><td>missing</td><td>missing</td><td>missing</td><td>missing</td><td>missing</td></tr><tr><th>7</th><td>1</td><td>2</td><td>3</td><td>missing</td><td>missing</td><td>missing</td></tr><tr><th>8</th><td>1</td><td>2</td><td>11</td><td>missing</td><td>missing</td><td>missing</td></tr><tr><th>9</th><td>2</td><td>11</td><td>14</td><td>missing</td><td>missing</td><td>missing</td></tr><tr><th>10</th><td>11</td><td>14</td><td>15</td><td>missing</td><td>missing</td><td>missing</td></tr><tr><th>11</th><td>1</td><td>2</td><td>3</td><td>missing</td><td>missing</td><td>missing</td></tr><tr><th>12</th><td>2</td><td>3</td><td>5</td><td>10</td><td>missing</td><td>missing</td></tr><tr><th>13</th><td>1</td><td>2</td><td>11</td><td>missing</td><td>missing</td><td>missing</td></tr><tr><th>14</th><td>1</td><td>2</td><td>11</td><td>missing</td><td>missing</td><td>missing</td></tr><tr><th>15</th><td>2</td><td>11</td><td>14</td><td>missing</td><td>missing</td><td>missing</td></tr><tr><th>16</th><td>1</td><td>2</td><td>11</td><td>missing</td><td>missing</td><td>missing</td></tr><tr><th>17</th><td>2</td><td>11</td><td>14</td><td>missing</td><td>missing</td><td>missing</td></tr><tr><th>18</th><td>11</td><td>14</td><td>15</td><td>missing</td><td>missing</td><td>missing</td></tr><tr><th>19</th><td>14</td><td>15</td><td>missing</td><td>missing</td><td>missing</td><td>missing</td></tr><tr><th>20</th><td>1</td><td>2</td><td>3</td><td>missing</td><td>missing</td><td>missing</td></tr><tr><th>21</th><td>2</td><td>3</td><td>5</td><td>10</td><td>missing</td><td>missing</td></tr><tr><th>22</th><td>3</td><td>5</td><td>10</td><td>missing</td><td>missing</td><td>missing</td></tr><tr><th>23</th><td>2</td><td>3</td><td>missing</td><td>missing</td><td>missing</td><td>missing</td></tr><tr><th>24</th><td>3</td><td>missing</td><td>missing</td><td>missing</td><td>missing</td><td>missing</td></tr><tr><th>25</th><td>2</td><td>11</td><td>14</td><td>missing</td><td>missing</td><td>missing</td></tr><tr><th>26</th><td>11</td><td>14</td><td>15</td><td>missing</td><td>missing</td><td>missing</td></tr><tr><th>27</th><td>2</td><td>3</td><td>5</td><td>10</td><td>missing</td><td>missing</td></tr><tr><th>28</th><td>2</td><td>11</td><td>14</td><td>missing</td><td>missing</td><td>missing</td></tr><tr><th>29</th><td>2</td><td>11</td><td>14</td><td>missing</td><td>missing</td><td>missing</td></tr><tr><th>30</th><td>11</td><td>14</td><td>15</td><td>missing</td><td>missing</td><td>missing</td></tr><tr><th>&vellip;</th><td>&vellip;</td><td>&vellip;</td><td>&vellip;</td><td>&vellip;</td><td>&vellip;</td><td>&vellip;</td></tr></tbody></table>"
      ],
      "text/plain": [
       "144×6 DataFrame\n",
       "│ Row │ station_1 │ station_2 │ station_3 │ station_4 │ station_5 │ station_6 │\n",
       "│     │ \u001b[90mInt64⍰\u001b[39m    │ \u001b[90mInt64⍰\u001b[39m    │ \u001b[90mInt64⍰\u001b[39m    │ \u001b[90mInt64⍰\u001b[39m    │ \u001b[90mInt64⍰\u001b[39m    │ \u001b[90mInt64⍰\u001b[39m    │\n",
       "├─────┼───────────┼───────────┼───────────┼───────────┼───────────┼───────────┤\n",
       "│ 1   │ 1         │ 2         │ \u001b[90mmissing\u001b[39m   │ \u001b[90mmissing\u001b[39m   │ \u001b[90mmissing\u001b[39m   │ \u001b[90mmissing\u001b[39m   │\n",
       "│ 2   │ 1         │ 2         │ 3         │ \u001b[90mmissing\u001b[39m   │ \u001b[90mmissing\u001b[39m   │ \u001b[90mmissing\u001b[39m   │\n",
       "│ 3   │ 1         │ 2         │ 3         │ \u001b[90mmissing\u001b[39m   │ \u001b[90mmissing\u001b[39m   │ \u001b[90mmissing\u001b[39m   │\n",
       "│ 4   │ 1         │ 2         │ 3         │ \u001b[90mmissing\u001b[39m   │ \u001b[90mmissing\u001b[39m   │ \u001b[90mmissing\u001b[39m   │\n",
       "│ 5   │ 2         │ 3         │ \u001b[90mmissing\u001b[39m   │ \u001b[90mmissing\u001b[39m   │ \u001b[90mmissing\u001b[39m   │ \u001b[90mmissing\u001b[39m   │\n",
       "│ 6   │ 3         │ \u001b[90mmissing\u001b[39m   │ \u001b[90mmissing\u001b[39m   │ \u001b[90mmissing\u001b[39m   │ \u001b[90mmissing\u001b[39m   │ \u001b[90mmissing\u001b[39m   │\n",
       "│ 7   │ 1         │ 2         │ 3         │ \u001b[90mmissing\u001b[39m   │ \u001b[90mmissing\u001b[39m   │ \u001b[90mmissing\u001b[39m   │\n",
       "│ 8   │ 1         │ 2         │ 11        │ \u001b[90mmissing\u001b[39m   │ \u001b[90mmissing\u001b[39m   │ \u001b[90mmissing\u001b[39m   │\n",
       "│ 9   │ 2         │ 11        │ 14        │ \u001b[90mmissing\u001b[39m   │ \u001b[90mmissing\u001b[39m   │ \u001b[90mmissing\u001b[39m   │\n",
       "│ 10  │ 11        │ 14        │ 15        │ \u001b[90mmissing\u001b[39m   │ \u001b[90mmissing\u001b[39m   │ \u001b[90mmissing\u001b[39m   │\n",
       "⋮\n",
       "│ 134 │ 3         │ 9         │ 12        │ 15        │ \u001b[90mmissing\u001b[39m   │ \u001b[90mmissing\u001b[39m   │\n",
       "│ 135 │ 9         │ 12        │ 15        │ \u001b[90mmissing\u001b[39m   │ \u001b[90mmissing\u001b[39m   │ \u001b[90mmissing\u001b[39m   │\n",
       "│ 136 │ 10        │ 5         │ 3         │ 2         │ \u001b[90mmissing\u001b[39m   │ \u001b[90mmissing\u001b[39m   │\n",
       "│ 137 │ 11        │ 2         │ 1         │ \u001b[90mmissing\u001b[39m   │ \u001b[90mmissing\u001b[39m   │ \u001b[90mmissing\u001b[39m   │\n",
       "│ 138 │ 14        │ 11        │ 2         │ \u001b[90mmissing\u001b[39m   │ \u001b[90mmissing\u001b[39m   │ \u001b[90mmissing\u001b[39m   │\n",
       "│ 139 │ 11        │ 2         │ 1         │ \u001b[90mmissing\u001b[39m   │ \u001b[90mmissing\u001b[39m   │ \u001b[90mmissing\u001b[39m   │\n",
       "│ 140 │ 15        │ 12        │ 9         │ \u001b[90mmissing\u001b[39m   │ \u001b[90mmissing\u001b[39m   │ \u001b[90mmissing\u001b[39m   │\n",
       "│ 141 │ 15        │ 14        │ 11        │ \u001b[90mmissing\u001b[39m   │ \u001b[90mmissing\u001b[39m   │ \u001b[90mmissing\u001b[39m   │\n",
       "│ 142 │ 14        │ 11        │ 2         │ \u001b[90mmissing\u001b[39m   │ \u001b[90mmissing\u001b[39m   │ \u001b[90mmissing\u001b[39m   │\n",
       "│ 143 │ 11        │ 2         │ 1         │ \u001b[90mmissing\u001b[39m   │ \u001b[90mmissing\u001b[39m   │ \u001b[90mmissing\u001b[39m   │\n",
       "│ 144 │ 10        │ 5         │ 3         │ \u001b[90mmissing\u001b[39m   │ \u001b[90mmissing\u001b[39m   │ \u001b[90mmissing\u001b[39m   │"
      ]
     },
     "execution_count": 8,
     "metadata": {},
     "output_type": "execute_result"
    }
   ],
   "source": [
    "df = CSV.read(\"ev_constraints.csv\", header = true, missingstring=\"\\n\")"
   ]
  },
  {
   "cell_type": "code",
   "execution_count": 11,
   "metadata": {},
   "outputs": [
    {
     "ename": "ErrorException",
     "evalue": "The solver= keyword is no longer available in JuMP 0.19 and later. See the JuMP documentation (http://www.juliaopt.org/JuMP.jl/latest/) for latest syntax.",
     "traceback": [
      "The solver= keyword is no longer available in JuMP 0.19 and later. See the JuMP documentation (http://www.juliaopt.org/JuMP.jl/latest/) for latest syntax.",
      "",
      "Stacktrace:",
      " [1] error(::String) at .\\error.jl:33",
      " [2] #Model#4(::MathOptInterface.Utilities.CachingOptimizerMode, ::GurobiSolver, ::Type) at C:\\Users\\steph\\.julia\\packages\\JuMP\\jnmGG\\src\\JuMP.jl:188",
      " [3] (::getfield(Core, Symbol(\"#kw#Type\")))(::NamedTuple{(:solver,),Tuple{GurobiSolver}}, ::Type{Model}) at .\\none:0",
      " [4] top-level scope at In[11]:2"
     ],
     "output_type": "error"
    }
   ],
   "source": [
    "num_nodes = 18\n",
    "\n",
    "m = Model(solver=GurobiSolver(OutputFlag=0))\n",
    "\n",
    "@variable(m, x[1:num_nodes],Bin)\n",
    "\n",
    "for row in eachrow(df)\n",
    "    v = vec(convert(Array, row)) # no transpose necessary\n",
    "    @constraint(m, sum(x[i] for i in v if !ismissing(i)) >= 1)\n",
    "end\n",
    "\n",
    "@objective(m, Min, sum(x[i] for i in 1:num_nodes))\n"
   ]
  },
  {
   "cell_type": "code",
   "execution_count": 71,
   "metadata": {},
   "outputs": [
    {
     "name": "stdout",
     "output_type": "stream",
     "text": [
      "Academic license - for non-commercial use only\n"
     ]
    },
    {
     "data": {
      "text/plain": [
       ":Optimal"
      ]
     },
     "execution_count": 71,
     "metadata": {},
     "output_type": "execute_result"
    }
   ],
   "source": [
    "status = solve(m)"
   ]
  },
  {
   "cell_type": "code",
   "execution_count": 72,
   "metadata": {},
   "outputs": [
    {
     "data": {
      "text/plain": [
       "18-element Array{Float64,1}:\n",
       " 0.0\n",
       " 1.0\n",
       " 1.0\n",
       " 0.0\n",
       " 1.0\n",
       " 0.0\n",
       " 0.0\n",
       " 1.0\n",
       " 1.0\n",
       " 1.0\n",
       " 1.0\n",
       " 1.0\n",
       " 0.0\n",
       " 1.0\n",
       " 1.0\n",
       " 0.0\n",
       " 1.0\n",
       " 0.0"
      ]
     },
     "execution_count": 72,
     "metadata": {},
     "output_type": "execute_result"
    }
   ],
   "source": [
    "getvalue(x)"
   ]
  },
  {
   "cell_type": "code",
   "execution_count": 47,
   "metadata": {},
   "outputs": [
    {
     "data": {
      "text/html": [
       "<table class=\"data-frame\"><thead><tr><th></th><th>station_1</th><th>station_2</th><th>station_3</th></tr></thead><tbody><tr><th>1</th><td>2</td><td>missing</td><td>missing</td></tr></tbody></table>"
      ],
      "text/plain": [
       "1×3 DataFrames.DataFrame\n",
       "│ Row │ station_1 │ station_2 │ station_3 │\n",
       "├─────┼───────────┼───────────┼───────────┤\n",
       "│ 1   │ 2         │ \u001b[90mmissing\u001b[39m   │ \u001b[90mmissing\u001b[39m   │"
      ]
     },
     "execution_count": 47,
     "metadata": {},
     "output_type": "execute_result"
    }
   ],
   "source": []
  },
  {
   "cell_type": "code",
   "execution_count": 64,
   "metadata": {},
   "outputs": [
    {
     "data": {
      "text/plain": [
       "false"
      ]
     },
     "execution_count": 64,
     "metadata": {},
     "output_type": "execute_result"
    }
   ],
   "source": [
    " ismissing(df[1,1])"
   ]
  },
  {
   "cell_type": "code",
   "execution_count": 68,
   "metadata": {},
   "outputs": [
    {
     "data": {
      "text/latex": [
       "$$ \\begin{alignat*}{1}\\min\\quad & 0\\\\\n",
       "\\text{Subject to} \\quad & x_{2} \\geq 1\\\\\n",
       " & x_{2} + x_{3} \\geq 1\\\\\n",
       " & x_{2} \\geq 1\\\\\n",
       " & x_{8} \\geq 1\\\\\n",
       " & x_{2} + x_{3} \\geq 1\\\\\n",
       " & x_{2} + x_{5} \\geq 1\\\\\n",
       " & x_{2} \\geq 1\\\\\n",
       " & x_{2} + x_{11} \\geq 1\\\\\n",
       " & x_{2} + x_{5} \\geq 1\\\\\n",
       " & x_{2} + x_{11} \\geq 1\\\\\n",
       " & x_{2} + x_{11} \\geq 1\\\\\n",
       " & x_{2} + x_{11} + x_{15} \\geq 1\\\\\n",
       " & x_{2} + x_{5} \\geq 1\\\\\n",
       " & x_{2} \\geq 1\\\\\n",
       " & x_{2} + x_{3} \\geq 1\\\\\n",
       " & x_{2} \\geq 1\\\\\n",
       " & x_{2} + x_{3} \\geq 1\\\\\n",
       " & x_{2} + x_{5} \\geq 1\\\\\n",
       " & x_{11} \\geq 1\\\\\n",
       " & x_{2} + x_{5} \\geq 1\\\\\n",
       " & x_{11} \\geq 1\\\\\n",
       " & x_{11} \\geq 1\\\\\n",
       " & x_{11} + x_{15} \\geq 1\\\\\n",
       " & x_{2} + x_{5} \\geq 1\\\\\n",
       " & x_{3} \\geq 1\\\\\n",
       " & x_{3} \\geq 1\\\\\n",
       " & x_{5} \\geq 1\\\\\n",
       " & x_{11} \\geq 1\\\\\n",
       " & x_{5} \\geq 1\\\\\n",
       " & x_{11} \\geq 1\\\\\n",
       " & x_{11} \\geq 1\\\\\n",
       " & x_{11} + x_{15} \\geq 1\\\\\n",
       " & x_{5} \\geq 1\\\\\n",
       " & x_{2} \\geq 1\\\\\n",
       " & x_{2} \\geq 1\\\\\n",
       " & x_{2} \\geq 1\\\\\n",
       " & x_{2} \\geq 1\\\\\n",
       " & x_{9} \\geq 1\\\\\n",
       " & x_{9} \\geq 1\\\\\n",
       " & x_{9} \\geq 1\\\\\n",
       " & x_{9} + x_{15} \\geq 1\\\\\n",
       " & x_{2} \\geq 1\\\\\n",
       " & x_{3} + x_{2} \\geq 1\\\\\n",
       " & x_{3} + x_{2} \\geq 1\\\\\n",
       " & x_{3} + x_{2} \\geq 1\\\\\n",
       " & x_{3} \\geq 1\\\\\n",
       " & x_{3} + x_{2} \\geq 1\\\\\n",
       " & x_{3} + x_{9} \\geq 1\\\\\n",
       " & x_{3} + x_{9} \\geq 1\\\\\n",
       " & x_{3} + x_{9} \\geq 1\\\\\n",
       " & x_{3} + x_{9} + x_{15} \\geq 1\\\\\n",
       " & x_{10} \\geq 1\\\\\n",
       " & x_{3} + x_{2} \\geq 1\\\\\n",
       " & x_{2} \\geq 1\\\\\n",
       " & x_{2} \\geq 1\\\\\n",
       " & x_{2} \\geq 1\\\\\n",
       " & x_{2} \\geq 1\\\\\n",
       " & x_{9} \\geq 1\\\\\n",
       " & x_{9} \\geq 1\\\\\n",
       " & x_{9} \\geq 1\\\\\n",
       " & x_{9} + x_{15} \\geq 1\\\\\n",
       " & x_{2} \\geq 1\\\\\n",
       " & x_{2} + x_{3} \\geq 1\\\\\n",
       " & x_{2} + x_{5} \\geq 1\\\\\n",
       " & x_{2} \\geq 1\\\\\n",
       " & x_{2} + x_{11} \\geq 1\\\\\n",
       " & x_{2} + x_{5} \\geq 1\\\\\n",
       " & x_{2} + x_{11} \\geq 1\\\\\n",
       " & x_{2} + x_{11} \\geq 1\\\\\n",
       " & x_{2} + x_{11} + x_{15} \\geq 1\\\\\n",
       " & x_{2} + x_{5} \\geq 1\\\\\n",
       " & x_{8} + x_{11} + x_{12} \\geq 1\\\\\n",
       " & x_{2} + x_{5} \\geq 1\\\\\n",
       " & x_{8} \\geq 1\\\\\n",
       " & x_{8} + x_{11} \\geq 1\\\\\n",
       " & x_{2} + x_{5} \\geq 1\\\\\n",
       " & x_{8} + x_{11} \\geq 1\\\\\n",
       " & x_{8} + x_{11} \\geq 1\\\\\n",
       " & x_{8} + x_{11} + x_{15} \\geq 1\\\\\n",
       " & x_{2} + x_{5} \\geq 1\\\\\n",
       " & x_{11} + x_{12} \\geq 1\\\\\n",
       " & x_{2} + x_{5} \\geq 1\\\\\n",
       " & x_{11} \\geq 1\\\\\n",
       " & x_{2} + x_{5} \\geq 1\\\\\n",
       " & x_{11} \\geq 1\\\\\n",
       " & x_{11} \\geq 1\\\\\n",
       " & x_{11} + x_{15} \\geq 1\\\\\n",
       " & x_{2} + x_{5} \\geq 1\\\\\n",
       " & x_{17} \\geq 1\\\\\n",
       " & x_{14} \\geq 1\\\\\n",
       " & x_{17} \\geq 1\\\\\n",
       " & x_{15} \\geq 1\\\\\n",
       " & x_{3} + x_{2} \\geq 1\\\\\n",
       " & x_{3} + x_{2} \\geq 1\\\\\n",
       " & x_{3} + x_{9} \\geq 1\\\\\n",
       " & x_{3} + x_{9} \\geq 1\\\\\n",
       " & x_{3} + x_{9} \\geq 1\\\\\n",
       " & x_{3} + x_{9} + x_{15} \\geq 1\\\\\n",
       " & x_{3} + x_{2} \\geq 1\\\\\n",
       " & x_{2} + x_{5} \\geq 1\\\\\n",
       " & x_{15} \\geq 1\\\\\n",
       " & x_{12} \\geq 1\\\\\n",
       " & x_{17} \\geq 1\\\\\n",
       " & x_{11} \\geq 1\\\\\n",
       " & x_{3} + x_{9} \\geq 1\\\\\n",
       " & x_{3} + x_{9} \\geq 1\\\\\n",
       " & x_{3} + x_{9} + x_{15} \\geq 1\\\\\n",
       " & x_{3} + x_{2} \\geq 1\\\\\n",
       " & x_{9} \\geq 1\\\\\n",
       " & x_{11} \\geq 1\\\\\n",
       " & x_{11} \\geq 1\\\\\n",
       " & x_{12} \\geq 1\\\\\n",
       " & x_{14} + x_{11} \\geq 1\\\\\n",
       " & x_{3} + x_{2} \\geq 1\\\\\n",
       " & x_{i} \\in \\{0,1\\} \\quad\\forall i \\in \\{1,2,\\dots,17,18\\}\\\\\n",
       "\\end{alignat*}\n",
       " $$"
      ],
      "text/plain": [
       "Feasibility problem with:\n",
       " * 114 linear constraints\n",
       " * 18 variables: 18 binary\n",
       "Solver is Gurobi"
      ]
     },
     "execution_count": 68,
     "metadata": {},
     "output_type": "execute_result"
    }
   ],
   "source": [
    "m"
   ]
  },
  {
   "cell_type": "code",
   "execution_count": null,
   "metadata": {},
   "outputs": [],
   "source": []
  }
 ],
 "metadata": {
  "kernelspec": {
   "display_name": "Julia 1.0.3",
   "language": "julia",
   "name": "julia-1.0"
  },
  "language_info": {
   "file_extension": ".jl",
   "mimetype": "application/julia",
   "name": "julia",
   "version": "1.0.3"
  }
 },
 "nbformat": 4,
 "nbformat_minor": 2
}
