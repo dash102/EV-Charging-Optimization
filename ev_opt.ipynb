{
 "cells": [
  {
   "cell_type": "code",
   "execution_count": 2,
   "metadata": {},
   "outputs": [
    {
     "name": "stderr",
     "output_type": "stream",
     "text": [
      "┌ Info: Recompiling stale cache file C:\\Users\\steph\\.julia\\compiled\\v1.0\\Gurobi\\do9v6.ji for Gurobi [2e9cd046-0924-5485-92f1-d5272153d98b]\n",
      "└ @ Base loading.jl:1190\n",
      "┌ Info: Recompiling stale cache file C:\\Users\\steph\\.julia\\compiled\\v1.0\\CSV\\HHBkp.ji for CSV [336ed68f-0bac-5ca0-87d4-7b16caf5d00b]\n",
      "└ @ Base loading.jl:1190\n",
      "┌ Info: Recompiling stale cache file C:\\Users\\steph\\.julia\\compiled\\v1.0\\JuMP\\DmXqY.ji for JuMP [4076af6c-e467-56ae-b986-b466b2749572]\n",
      "└ @ Base loading.jl:1190\n"
     ]
    }
   ],
   "source": [
    "using Gurobi\n",
    "using CSV\n",
    "using DataFrames\n",
    "using JuMP"
   ]
  },
  {
   "cell_type": "code",
   "execution_count": 1,
   "metadata": {},
   "outputs": [
    {
     "name": "stdout",
     "output_type": "stream",
     "text": [
      "\u001b[32m\u001b[1m  Updating\u001b[22m\u001b[39m registry at `C:\\Users\\steph\\.julia\\registries\\General`\n",
      "\u001b[32m\u001b[1m  Updating\u001b[22m\u001b[39m git-repo `https://github.com/JuliaRegistries/General.git`\n",
      "\u001b[?25l\u001b[2K\u001b[?25h"
     ]
    }
   ],
   "source": [
    "import Pkg\n",
    "Pkg.activate(@__DIR__)\n",
    "Pkg.instantiate()"
   ]
  },
  {
   "cell_type": "code",
   "execution_count": 3,
   "metadata": {},
   "outputs": [
    {
     "data": {
      "text/html": [
       "<table class=\"data-frame\"><thead><tr><th></th><th>station_1</th><th>station_2</th><th>station_3</th><th>station_4</th><th>station_5</th><th>station_6</th><th>station_7</th><th>station_8</th><th>station_9</th></tr><tr><th></th><th>Int64⍰</th><th>Int64⍰</th><th>Int64⍰</th><th>Int64⍰</th><th>Int64⍰</th><th>Int64⍰</th><th>Int64⍰</th><th>Int64⍰</th><th>Int64⍰</th></tr></thead><tbody><p>3,236 rows × 9 columns</p><tr><th>1</th><td>1</td><td>5</td><td>missing</td><td>missing</td><td>missing</td><td>missing</td><td>missing</td><td>missing</td><td>missing</td></tr><tr><th>2</th><td>5</td><td>missing</td><td>missing</td><td>missing</td><td>missing</td><td>missing</td><td>missing</td><td>missing</td><td>missing</td></tr><tr><th>3</th><td>2</td><td>3</td><td>4</td><td>18</td><td>missing</td><td>missing</td><td>missing</td><td>missing</td><td>missing</td></tr><tr><th>4</th><td>3</td><td>4</td><td>18</td><td>missing</td><td>missing</td><td>missing</td><td>missing</td><td>missing</td><td>missing</td></tr><tr><th>5</th><td>4</td><td>18</td><td>missing</td><td>missing</td><td>missing</td><td>missing</td><td>missing</td><td>missing</td><td>missing</td></tr><tr><th>6</th><td>2</td><td>3</td><td>4</td><td>18</td><td>missing</td><td>missing</td><td>missing</td><td>missing</td><td>missing</td></tr><tr><th>7</th><td>3</td><td>4</td><td>18</td><td>missing</td><td>missing</td><td>missing</td><td>missing</td><td>missing</td><td>missing</td></tr><tr><th>8</th><td>2</td><td>3</td><td>4</td><td>15</td><td>missing</td><td>missing</td><td>missing</td><td>missing</td><td>missing</td></tr><tr><th>9</th><td>2</td><td>3</td><td>4</td><td>15</td><td>missing</td><td>missing</td><td>missing</td><td>missing</td><td>missing</td></tr><tr><th>10</th><td>2</td><td>3</td><td>4</td><td>missing</td><td>missing</td><td>missing</td><td>missing</td><td>missing</td><td>missing</td></tr><tr><th>11</th><td>2</td><td>3</td><td>4</td><td>18</td><td>missing</td><td>missing</td><td>missing</td><td>missing</td><td>missing</td></tr><tr><th>12</th><td>2</td><td>3</td><td>4</td><td>18</td><td>missing</td><td>missing</td><td>missing</td><td>missing</td><td>missing</td></tr><tr><th>13</th><td>2</td><td>10</td><td>11</td><td>12</td><td>13</td><td>missing</td><td>missing</td><td>missing</td><td>missing</td></tr><tr><th>14</th><td>2</td><td>10</td><td>11</td><td>12</td><td>13</td><td>missing</td><td>missing</td><td>missing</td><td>missing</td></tr><tr><th>15</th><td>2</td><td>10</td><td>11</td><td>12</td><td>13</td><td>missing</td><td>missing</td><td>missing</td><td>missing</td></tr><tr><th>16</th><td>10</td><td>11</td><td>12</td><td>13</td><td>21</td><td>22</td><td>missing</td><td>missing</td><td>missing</td></tr><tr><th>17</th><td>2</td><td>3</td><td>4</td><td>15</td><td>16</td><td>missing</td><td>missing</td><td>missing</td><td>missing</td></tr><tr><th>18</th><td>2</td><td>3</td><td>4</td><td>18</td><td>missing</td><td>missing</td><td>missing</td><td>missing</td><td>missing</td></tr><tr><th>19</th><td>3</td><td>4</td><td>18</td><td>19</td><td>missing</td><td>missing</td><td>missing</td><td>missing</td><td>missing</td></tr><tr><th>20</th><td>4</td><td>18</td><td>19</td><td>missing</td><td>missing</td><td>missing</td><td>missing</td><td>missing</td><td>missing</td></tr><tr><th>21</th><td>2</td><td>10</td><td>11</td><td>12</td><td>13</td><td>missing</td><td>missing</td><td>missing</td><td>missing</td></tr><tr><th>22</th><td>10</td><td>11</td><td>12</td><td>13</td><td>21</td><td>missing</td><td>missing</td><td>missing</td><td>missing</td></tr><tr><th>23</th><td>11</td><td>12</td><td>13</td><td>21</td><td>missing</td><td>missing</td><td>missing</td><td>missing</td><td>missing</td></tr><tr><th>24</th><td>2</td><td>10</td><td>11</td><td>12</td><td>13</td><td>missing</td><td>missing</td><td>missing</td><td>missing</td></tr><tr><th>25</th><td>10</td><td>11</td><td>12</td><td>13</td><td>21</td><td>22</td><td>missing</td><td>missing</td><td>missing</td></tr><tr><th>26</th><td>2</td><td>10</td><td>11</td><td>12</td><td>13</td><td>missing</td><td>missing</td><td>missing</td><td>missing</td></tr><tr><th>27</th><td>10</td><td>11</td><td>12</td><td>13</td><td>21</td><td>22</td><td>missing</td><td>missing</td><td>missing</td></tr><tr><th>28</th><td>11</td><td>12</td><td>13</td><td>21</td><td>22</td><td>missing</td><td>missing</td><td>missing</td><td>missing</td></tr><tr><th>29</th><td>12</td><td>13</td><td>21</td><td>22</td><td>missing</td><td>missing</td><td>missing</td><td>missing</td><td>missing</td></tr><tr><th>30</th><td>2</td><td>3</td><td>4</td><td>15</td><td>16</td><td>missing</td><td>missing</td><td>missing</td><td>missing</td></tr><tr><th>&vellip;</th><td>&vellip;</td><td>&vellip;</td><td>&vellip;</td><td>&vellip;</td><td>&vellip;</td><td>&vellip;</td><td>&vellip;</td><td>&vellip;</td><td>&vellip;</td></tr></tbody></table>"
      ],
      "text/latex": [
       "\\begin{tabular}{r|ccccccccc}\n",
       "\t& station\\_1 & station\\_2 & station\\_3 & station\\_4 & station\\_5 & station\\_6 & station\\_7 & station\\_8 & station\\_9\\\\\n",
       "\t\\hline\n",
       "\t& Int64⍰ & Int64⍰ & Int64⍰ & Int64⍰ & Int64⍰ & Int64⍰ & Int64⍰ & Int64⍰ & Int64⍰\\\\\n",
       "\t\\hline\n",
       "\t1 & 1 & 5 &  &  &  &  &  &  &  \\\\\n",
       "\t2 & 5 &  &  &  &  &  &  &  &  \\\\\n",
       "\t3 & 2 & 3 & 4 & 18 &  &  &  &  &  \\\\\n",
       "\t4 & 3 & 4 & 18 &  &  &  &  &  &  \\\\\n",
       "\t5 & 4 & 18 &  &  &  &  &  &  &  \\\\\n",
       "\t6 & 2 & 3 & 4 & 18 &  &  &  &  &  \\\\\n",
       "\t7 & 3 & 4 & 18 &  &  &  &  &  &  \\\\\n",
       "\t8 & 2 & 3 & 4 & 15 &  &  &  &  &  \\\\\n",
       "\t9 & 2 & 3 & 4 & 15 &  &  &  &  &  \\\\\n",
       "\t10 & 2 & 3 & 4 &  &  &  &  &  &  \\\\\n",
       "\t11 & 2 & 3 & 4 & 18 &  &  &  &  &  \\\\\n",
       "\t12 & 2 & 3 & 4 & 18 &  &  &  &  &  \\\\\n",
       "\t13 & 2 & 10 & 11 & 12 & 13 &  &  &  &  \\\\\n",
       "\t14 & 2 & 10 & 11 & 12 & 13 &  &  &  &  \\\\\n",
       "\t15 & 2 & 10 & 11 & 12 & 13 &  &  &  &  \\\\\n",
       "\t16 & 10 & 11 & 12 & 13 & 21 & 22 &  &  &  \\\\\n",
       "\t17 & 2 & 3 & 4 & 15 & 16 &  &  &  &  \\\\\n",
       "\t18 & 2 & 3 & 4 & 18 &  &  &  &  &  \\\\\n",
       "\t19 & 3 & 4 & 18 & 19 &  &  &  &  &  \\\\\n",
       "\t20 & 4 & 18 & 19 &  &  &  &  &  &  \\\\\n",
       "\t21 & 2 & 10 & 11 & 12 & 13 &  &  &  &  \\\\\n",
       "\t22 & 10 & 11 & 12 & 13 & 21 &  &  &  &  \\\\\n",
       "\t23 & 11 & 12 & 13 & 21 &  &  &  &  &  \\\\\n",
       "\t24 & 2 & 10 & 11 & 12 & 13 &  &  &  &  \\\\\n",
       "\t25 & 10 & 11 & 12 & 13 & 21 & 22 &  &  &  \\\\\n",
       "\t26 & 2 & 10 & 11 & 12 & 13 &  &  &  &  \\\\\n",
       "\t27 & 10 & 11 & 12 & 13 & 21 & 22 &  &  &  \\\\\n",
       "\t28 & 11 & 12 & 13 & 21 & 22 &  &  &  &  \\\\\n",
       "\t29 & 12 & 13 & 21 & 22 &  &  &  &  &  \\\\\n",
       "\t30 & 2 & 3 & 4 & 15 & 16 &  &  &  &  \\\\\n",
       "\t$\\dots$ & $\\dots$ & $\\dots$ & $\\dots$ & $\\dots$ & $\\dots$ & $\\dots$ & $\\dots$ & $\\dots$ & $\\dots$ \\\\\n",
       "\\end{tabular}\n"
      ],
      "text/plain": [
       "3236×9 DataFrame. Omitted printing of 3 columns\n",
       "│ Row  │ station_1 │ station_2 │ station_3 │ station_4 │ station_5 │ station_6 │\n",
       "│      │ \u001b[90mInt64⍰\u001b[39m    │ \u001b[90mInt64⍰\u001b[39m    │ \u001b[90mInt64⍰\u001b[39m    │ \u001b[90mInt64⍰\u001b[39m    │ \u001b[90mInt64⍰\u001b[39m    │ \u001b[90mInt64⍰\u001b[39m    │\n",
       "├──────┼───────────┼───────────┼───────────┼───────────┼───────────┼───────────┤\n",
       "│ 1    │ 1         │ 5         │ \u001b[90mmissing\u001b[39m   │ \u001b[90mmissing\u001b[39m   │ \u001b[90mmissing\u001b[39m   │ \u001b[90mmissing\u001b[39m   │\n",
       "│ 2    │ 5         │ \u001b[90mmissing\u001b[39m   │ \u001b[90mmissing\u001b[39m   │ \u001b[90mmissing\u001b[39m   │ \u001b[90mmissing\u001b[39m   │ \u001b[90mmissing\u001b[39m   │\n",
       "│ 3    │ 2         │ 3         │ 4         │ 18        │ \u001b[90mmissing\u001b[39m   │ \u001b[90mmissing\u001b[39m   │\n",
       "│ 4    │ 3         │ 4         │ 18        │ \u001b[90mmissing\u001b[39m   │ \u001b[90mmissing\u001b[39m   │ \u001b[90mmissing\u001b[39m   │\n",
       "│ 5    │ 4         │ 18        │ \u001b[90mmissing\u001b[39m   │ \u001b[90mmissing\u001b[39m   │ \u001b[90mmissing\u001b[39m   │ \u001b[90mmissing\u001b[39m   │\n",
       "│ 6    │ 2         │ 3         │ 4         │ 18        │ \u001b[90mmissing\u001b[39m   │ \u001b[90mmissing\u001b[39m   │\n",
       "│ 7    │ 3         │ 4         │ 18        │ \u001b[90mmissing\u001b[39m   │ \u001b[90mmissing\u001b[39m   │ \u001b[90mmissing\u001b[39m   │\n",
       "│ 8    │ 2         │ 3         │ 4         │ 15        │ \u001b[90mmissing\u001b[39m   │ \u001b[90mmissing\u001b[39m   │\n",
       "│ 9    │ 2         │ 3         │ 4         │ 15        │ \u001b[90mmissing\u001b[39m   │ \u001b[90mmissing\u001b[39m   │\n",
       "│ 10   │ 2         │ 3         │ 4         │ \u001b[90mmissing\u001b[39m   │ \u001b[90mmissing\u001b[39m   │ \u001b[90mmissing\u001b[39m   │\n",
       "⋮\n",
       "│ 3226 │ 34        │ 40        │ 41        │ \u001b[90mmissing\u001b[39m   │ \u001b[90mmissing\u001b[39m   │ \u001b[90mmissing\u001b[39m   │\n",
       "│ 3227 │ 35        │ 34        │ 33        │ 38        │ 44        │ \u001b[90mmissing\u001b[39m   │\n",
       "│ 3228 │ 35        │ 34        │ 33        │ 38        │ 44        │ 45        │\n",
       "│ 3229 │ 35        │ 34        │ 33        │ 38        │ 44        │ 45        │\n",
       "│ 3230 │ 34        │ 33        │ 38        │ 44        │ 45        │ 47        │\n",
       "│ 3231 │ 35        │ 34        │ 33        │ 38        │ 44        │ 45        │\n",
       "│ 3232 │ 40        │ 39        │ 42        │ 30        │ 44        │ 45        │\n",
       "│ 3233 │ 41        │ 42        │ 30        │ 44        │ \u001b[90mmissing\u001b[39m   │ \u001b[90mmissing\u001b[39m   │\n",
       "│ 3234 │ 41        │ 42        │ 30        │ 44        │ 45        │ \u001b[90mmissing\u001b[39m   │\n",
       "│ 3235 │ 41        │ 42        │ 30        │ 44        │ 45        │ \u001b[90mmissing\u001b[39m   │\n",
       "│ 3236 │ 41        │ 42        │ 30        │ 44        │ 45        │ \u001b[90mmissing\u001b[39m   │"
      ]
     },
     "execution_count": 3,
     "metadata": {},
     "output_type": "execute_result"
    }
   ],
   "source": [
    "df = CSV.read(\"ev_constraints.csv\", header = true, missingstring=\"\\n\")"
   ]
  },
  {
   "cell_type": "code",
   "execution_count": 6,
   "metadata": {},
   "outputs": [
    {
     "name": "stderr",
     "output_type": "stream",
     "text": [
      "┌ Warning: `convert(::Type{Array}, dfr::DataFrameRow)` is deprecated, use `permutedims(Vector(dfr))` instead.\n",
      "│   caller = top-level scope at In[6]:8\n",
      "└ @ Core .\\In[6]:8\n"
     ]
    },
    {
     "ename": "BoundsError",
     "evalue": "BoundsError: attempt to access 50-element Array{Variable,1} at index [0]",
     "output_type": "error",
     "traceback": [
      "BoundsError: attempt to access 50-element Array{Variable,1} at index [0]",
      "",
      "Stacktrace:",
      " [1] getindex(::Array{Variable,1}, ::Int64) at .\\array.jl:731",
      " [2] macro expansion at C:\\Users\\steph\\.julia\\packages\\JuMP\\PbnIJ\\src\\parseExpr_staged.jl:508 [inlined]",
      " [3] macro expansion at C:\\Users\\steph\\.julia\\packages\\JuMP\\PbnIJ\\src\\macros.jl:493 [inlined]",
      " [4] top-level scope at .\\In[6]:9"
     ]
    }
   ],
   "source": [
    "num_nodes = 50\n",
    "\n",
    "m = Model(solver=GurobiSolver(OutputFlag=0))\n",
    "\n",
    "@variable(m, x[1:num_nodes],Bin)\n",
    "\n",
    "for row in eachrow(df)\n",
    "    v = vec(convert(Array, row)) # no transpose necessary\n",
    "    @constraint(m, sum(x[i] for i in v if !ismissing(i)) >= 1)\n",
    "end\n",
    "\n",
    "@objective(m, Min, sum(x[i] for i in 1:num_nodes))\n"
   ]
  },
  {
   "cell_type": "code",
   "execution_count": 18,
   "metadata": {},
   "outputs": [
    {
     "name": "stdout",
     "output_type": "stream",
     "text": [
      "Academic license - for non-commercial use only\r\n"
     ]
    },
    {
     "data": {
      "text/plain": [
       ":Optimal"
      ]
     },
     "execution_count": 18,
     "metadata": {},
     "output_type": "execute_result"
    }
   ],
   "source": [
    "status = solve(m)"
   ]
  },
  {
   "cell_type": "code",
   "execution_count": 15,
   "metadata": {},
   "outputs": [
    {
     "name": "stdout",
     "output_type": "stream",
     "text": [
      "\u001b[32m\u001b[1m  Updating\u001b[22m\u001b[39m `C:\\Users\\steph\\Downloads\\15.053_2019SP-master (2)\\15.053_2019SP-master\\Project.toml`\n",
      " \u001b[90m [2e9cd046]\u001b[39m\u001b[91m - Gurobi v0.6.0\u001b[39m\n",
      "\u001b[32m\u001b[1m  Updating\u001b[22m\u001b[39m `C:\\Users\\steph\\Downloads\\15.053_2019SP-master (2)\\15.053_2019SP-master\\Manifest.toml`\n",
      " \u001b[90m [2e9cd046]\u001b[39m\u001b[91m - Gurobi v0.6.0\u001b[39m\n",
      "\u001b[32m\u001b[1m Resolving\u001b[22m\u001b[39m package versions...\n",
      "\u001b[32m\u001b[1m  Updating\u001b[22m\u001b[39m `C:\\Users\\steph\\Downloads\\15.053_2019SP-master (2)\\15.053_2019SP-master\\Project.toml`\n",
      " \u001b[90m [2e9cd046]\u001b[39m\u001b[92m + Gurobi v0.6.0\u001b[39m\n",
      "\u001b[32m\u001b[1m  Updating\u001b[22m\u001b[39m `C:\\Users\\steph\\Downloads\\15.053_2019SP-master (2)\\15.053_2019SP-master\\Manifest.toml`\n",
      " \u001b[90m [2e9cd046]\u001b[39m\u001b[92m + Gurobi v0.6.0\u001b[39m\n",
      "\u001b[32m\u001b[1m  Building\u001b[22m\u001b[39m Gurobi → `C:\\Users\\steph\\.julia\\packages\\Gurobi\\dlJep\\deps\\build.log`\n"
     ]
    }
   ],
   "source": [
    "Pkg.rm(\"Gurobi\")\n",
    "Pkg.add(\"Gurobi\")\n",
    "Pkg.build(\"Gurobi\")"
   ]
  },
  {
   "cell_type": "code",
   "execution_count": 19,
   "metadata": {},
   "outputs": [
    {
     "data": {
      "text/plain": [
       "18-element Array{Float64,1}:\n",
       "  0.0\n",
       "  1.0\n",
       "  1.0\n",
       "  0.0\n",
       "  0.0\n",
       "  0.0\n",
       "  0.0\n",
       " -0.0\n",
       "  1.0\n",
       "  0.0\n",
       "  1.0\n",
       "  0.0\n",
       "  0.0\n",
       "  1.0\n",
       " -0.0\n",
       "  0.0\n",
       "  0.0\n",
       "  0.0"
      ]
     },
     "execution_count": 19,
     "metadata": {},
     "output_type": "execute_result"
    }
   ],
   "source": [
    "getvalue(x)"
   ]
  },
  {
   "cell_type": "code",
   "execution_count": 47,
   "metadata": {},
   "outputs": [
    {
     "data": {
      "text/html": [
       "<table class=\"data-frame\"><thead><tr><th></th><th>station_1</th><th>station_2</th><th>station_3</th></tr></thead><tbody><tr><th>1</th><td>2</td><td>missing</td><td>missing</td></tr></tbody></table>"
      ],
      "text/plain": [
       "1×3 DataFrames.DataFrame\n",
       "│ Row │ station_1 │ station_2 │ station_3 │\n",
       "├─────┼───────────┼───────────┼───────────┤\n",
       "│ 1   │ 2         │ \u001b[90mmissing\u001b[39m   │ \u001b[90mmissing\u001b[39m   │"
      ]
     },
     "execution_count": 47,
     "metadata": {},
     "output_type": "execute_result"
    }
   ],
   "source": []
  },
  {
   "cell_type": "code",
   "execution_count": 64,
   "metadata": {},
   "outputs": [
    {
     "data": {
      "text/plain": [
       "false"
      ]
     },
     "execution_count": 64,
     "metadata": {},
     "output_type": "execute_result"
    }
   ],
   "source": [
    " ismissing(df[1,1])"
   ]
  },
  {
   "cell_type": "code",
   "execution_count": 68,
   "metadata": {},
   "outputs": [
    {
     "data": {
      "text/latex": [
       "$$ \\begin{alignat*}{1}\\min\\quad & 0\\\\\n",
       "\\text{Subject to} \\quad & x_{2} \\geq 1\\\\\n",
       " & x_{2} + x_{3} \\geq 1\\\\\n",
       " & x_{2} \\geq 1\\\\\n",
       " & x_{8} \\geq 1\\\\\n",
       " & x_{2} + x_{3} \\geq 1\\\\\n",
       " & x_{2} + x_{5} \\geq 1\\\\\n",
       " & x_{2} \\geq 1\\\\\n",
       " & x_{2} + x_{11} \\geq 1\\\\\n",
       " & x_{2} + x_{5} \\geq 1\\\\\n",
       " & x_{2} + x_{11} \\geq 1\\\\\n",
       " & x_{2} + x_{11} \\geq 1\\\\\n",
       " & x_{2} + x_{11} + x_{15} \\geq 1\\\\\n",
       " & x_{2} + x_{5} \\geq 1\\\\\n",
       " & x_{2} \\geq 1\\\\\n",
       " & x_{2} + x_{3} \\geq 1\\\\\n",
       " & x_{2} \\geq 1\\\\\n",
       " & x_{2} + x_{3} \\geq 1\\\\\n",
       " & x_{2} + x_{5} \\geq 1\\\\\n",
       " & x_{11} \\geq 1\\\\\n",
       " & x_{2} + x_{5} \\geq 1\\\\\n",
       " & x_{11} \\geq 1\\\\\n",
       " & x_{11} \\geq 1\\\\\n",
       " & x_{11} + x_{15} \\geq 1\\\\\n",
       " & x_{2} + x_{5} \\geq 1\\\\\n",
       " & x_{3} \\geq 1\\\\\n",
       " & x_{3} \\geq 1\\\\\n",
       " & x_{5} \\geq 1\\\\\n",
       " & x_{11} \\geq 1\\\\\n",
       " & x_{5} \\geq 1\\\\\n",
       " & x_{11} \\geq 1\\\\\n",
       " & x_{11} \\geq 1\\\\\n",
       " & x_{11} + x_{15} \\geq 1\\\\\n",
       " & x_{5} \\geq 1\\\\\n",
       " & x_{2} \\geq 1\\\\\n",
       " & x_{2} \\geq 1\\\\\n",
       " & x_{2} \\geq 1\\\\\n",
       " & x_{2} \\geq 1\\\\\n",
       " & x_{9} \\geq 1\\\\\n",
       " & x_{9} \\geq 1\\\\\n",
       " & x_{9} \\geq 1\\\\\n",
       " & x_{9} + x_{15} \\geq 1\\\\\n",
       " & x_{2} \\geq 1\\\\\n",
       " & x_{3} + x_{2} \\geq 1\\\\\n",
       " & x_{3} + x_{2} \\geq 1\\\\\n",
       " & x_{3} + x_{2} \\geq 1\\\\\n",
       " & x_{3} \\geq 1\\\\\n",
       " & x_{3} + x_{2} \\geq 1\\\\\n",
       " & x_{3} + x_{9} \\geq 1\\\\\n",
       " & x_{3} + x_{9} \\geq 1\\\\\n",
       " & x_{3} + x_{9} \\geq 1\\\\\n",
       " & x_{3} + x_{9} + x_{15} \\geq 1\\\\\n",
       " & x_{10} \\geq 1\\\\\n",
       " & x_{3} + x_{2} \\geq 1\\\\\n",
       " & x_{2} \\geq 1\\\\\n",
       " & x_{2} \\geq 1\\\\\n",
       " & x_{2} \\geq 1\\\\\n",
       " & x_{2} \\geq 1\\\\\n",
       " & x_{9} \\geq 1\\\\\n",
       " & x_{9} \\geq 1\\\\\n",
       " & x_{9} \\geq 1\\\\\n",
       " & x_{9} + x_{15} \\geq 1\\\\\n",
       " & x_{2} \\geq 1\\\\\n",
       " & x_{2} + x_{3} \\geq 1\\\\\n",
       " & x_{2} + x_{5} \\geq 1\\\\\n",
       " & x_{2} \\geq 1\\\\\n",
       " & x_{2} + x_{11} \\geq 1\\\\\n",
       " & x_{2} + x_{5} \\geq 1\\\\\n",
       " & x_{2} + x_{11} \\geq 1\\\\\n",
       " & x_{2} + x_{11} \\geq 1\\\\\n",
       " & x_{2} + x_{11} + x_{15} \\geq 1\\\\\n",
       " & x_{2} + x_{5} \\geq 1\\\\\n",
       " & x_{8} + x_{11} + x_{12} \\geq 1\\\\\n",
       " & x_{2} + x_{5} \\geq 1\\\\\n",
       " & x_{8} \\geq 1\\\\\n",
       " & x_{8} + x_{11} \\geq 1\\\\\n",
       " & x_{2} + x_{5} \\geq 1\\\\\n",
       " & x_{8} + x_{11} \\geq 1\\\\\n",
       " & x_{8} + x_{11} \\geq 1\\\\\n",
       " & x_{8} + x_{11} + x_{15} \\geq 1\\\\\n",
       " & x_{2} + x_{5} \\geq 1\\\\\n",
       " & x_{11} + x_{12} \\geq 1\\\\\n",
       " & x_{2} + x_{5} \\geq 1\\\\\n",
       " & x_{11} \\geq 1\\\\\n",
       " & x_{2} + x_{5} \\geq 1\\\\\n",
       " & x_{11} \\geq 1\\\\\n",
       " & x_{11} \\geq 1\\\\\n",
       " & x_{11} + x_{15} \\geq 1\\\\\n",
       " & x_{2} + x_{5} \\geq 1\\\\\n",
       " & x_{17} \\geq 1\\\\\n",
       " & x_{14} \\geq 1\\\\\n",
       " & x_{17} \\geq 1\\\\\n",
       " & x_{15} \\geq 1\\\\\n",
       " & x_{3} + x_{2} \\geq 1\\\\\n",
       " & x_{3} + x_{2} \\geq 1\\\\\n",
       " & x_{3} + x_{9} \\geq 1\\\\\n",
       " & x_{3} + x_{9} \\geq 1\\\\\n",
       " & x_{3} + x_{9} \\geq 1\\\\\n",
       " & x_{3} + x_{9} + x_{15} \\geq 1\\\\\n",
       " & x_{3} + x_{2} \\geq 1\\\\\n",
       " & x_{2} + x_{5} \\geq 1\\\\\n",
       " & x_{15} \\geq 1\\\\\n",
       " & x_{12} \\geq 1\\\\\n",
       " & x_{17} \\geq 1\\\\\n",
       " & x_{11} \\geq 1\\\\\n",
       " & x_{3} + x_{9} \\geq 1\\\\\n",
       " & x_{3} + x_{9} \\geq 1\\\\\n",
       " & x_{3} + x_{9} + x_{15} \\geq 1\\\\\n",
       " & x_{3} + x_{2} \\geq 1\\\\\n",
       " & x_{9} \\geq 1\\\\\n",
       " & x_{11} \\geq 1\\\\\n",
       " & x_{11} \\geq 1\\\\\n",
       " & x_{12} \\geq 1\\\\\n",
       " & x_{14} + x_{11} \\geq 1\\\\\n",
       " & x_{3} + x_{2} \\geq 1\\\\\n",
       " & x_{i} \\in \\{0,1\\} \\quad\\forall i \\in \\{1,2,\\dots,17,18\\}\\\\\n",
       "\\end{alignat*}\n",
       " $$"
      ],
      "text/plain": [
       "Feasibility problem with:\n",
       " * 114 linear constraints\n",
       " * 18 variables: 18 binary\n",
       "Solver is Gurobi"
      ]
     },
     "execution_count": 68,
     "metadata": {},
     "output_type": "execute_result"
    }
   ],
   "source": [
    "m"
   ]
  },
  {
   "cell_type": "code",
   "execution_count": null,
   "metadata": {},
   "outputs": [],
   "source": []
  }
 ],
 "metadata": {
  "kernelspec": {
   "display_name": "Julia 1.0.3",
   "language": "julia",
   "name": "julia-1.0"
  },
  "language_info": {
   "file_extension": ".jl",
   "mimetype": "application/julia",
   "name": "julia",
   "version": "1.0.3"
  }
 },
 "nbformat": 4,
 "nbformat_minor": 2
}
